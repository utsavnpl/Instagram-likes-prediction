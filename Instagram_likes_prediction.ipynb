{
  "cells": [
    {
      "cell_type": "markdown",
      "source": [
        " ![Emil](data:image/png;base64,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)"
      ],
      "metadata": {
        "id": "Zchjgvf5m4ZJ"
      },
      "id": "Zchjgvf5m4ZJ"
    },
    {
      "cell_type": "markdown",
      "id": "0608cf0e-a74c-4665-9abf-a7feb61f7e52",
      "metadata": {
        "id": "0608cf0e-a74c-4665-9abf-a7feb61f7e52"
      },
      "source": [
        "# Instagram likes prediction\n",
        "\n",
        "In this challenge, we'll be taking Linear Regression further by seeing if we can predict some metrics from social media!\n",
        "\n",
        "Let's get started!"
      ]
    },
    {
      "cell_type": "markdown",
      "id": "da21f0ca-d69c-47f9-8a8c-a532fc9150f0",
      "metadata": {
        "id": "da21f0ca-d69c-47f9-8a8c-a532fc9150f0"
      },
      "source": [
        "## Data Exploration"
      ]
    },
    {
      "cell_type": "markdown",
      "source": [
        "a) Download the [dataset](https://drive.google.com/file/d/1O8ey3uytjqzRUQXTnmXkiqGBoa6lne1C/view?usp=sharing) and upload it to Google Colab. Execute the cell below to load data in a `posts` dataframe. One row of this dataset represents an Instagram post. Pay attention to the compression format of the file!"
      ],
      "metadata": {
        "id": "nQc_-mdHkyar"
      },
      "id": "nQc_-mdHkyar"
    },
    {
      "cell_type": "code",
      "execution_count": null,
      "id": "a8862d90-4d9d-4d2b-af38-9c56a0bd6ce4",
      "metadata": {
        "id": "a8862d90-4d9d-4d2b-af38-9c56a0bd6ce4"
      },
      "outputs": [],
      "source": [
        "import pandas as pd"
      ]
    },
    {
      "cell_type": "code",
      "source": [
        "pd.read_csv(\"posts.csv\")"
      ],
      "metadata": {
        "colab": {
          "base_uri": "https://localhost:8080/",
          "height": 423
        },
        "id": "laUOIyvRNYS2",
        "outputId": "a5adce23-66e4-4341-fbd8-078f7d96c024"
      },
      "id": "laUOIyvRNYS2",
      "execution_count": null,
      "outputs": [
        {
          "output_type": "execute_result",
          "data": {
            "text/plain": [
              "               id  followers  comments  posts  likes                   ts\n",
              "0        6e56f910       1804         2    851     73  2017-10-08 16:21:28\n",
              "1        0bea9208        542         1    846      7  2017-07-07 11:58:18\n",
              "2        88ec6c3f        669         2   1495     33  2018-03-19 17:22:29\n",
              "3        006b0d03        757         9    144    166  2018-09-02 18:49:52\n",
              "4        c8a0f2a6        539         4    453     71  2018-04-18 14:15:36\n",
              "...           ...        ...       ...    ...    ...                  ...\n",
              "2260897  f58b19ab       1847        14    678    166  2018-09-10 15:02:43\n",
              "2260898  58433abf        237         1    192     31  2018-10-13 10:02:59\n",
              "2260899  10c4b02c        267         2    110     35  2018-09-18 22:42:03\n",
              "2260900  0f7064e1        214         3     53     50  2018-11-01 11:32:57\n",
              "2260901  b0fd717e        510         0    417     31  2018-09-29 10:14:18\n",
              "\n",
              "[2260902 rows x 6 columns]"
            ],
            "text/html": [
              "\n",
              "  <div id=\"df-46ee1095-8fd8-425e-84fc-e6caf166c2b6\" class=\"colab-df-container\">\n",
              "    <div>\n",
              "<style scoped>\n",
              "    .dataframe tbody tr th:only-of-type {\n",
              "        vertical-align: middle;\n",
              "    }\n",
              "\n",
              "    .dataframe tbody tr th {\n",
              "        vertical-align: top;\n",
              "    }\n",
              "\n",
              "    .dataframe thead th {\n",
              "        text-align: right;\n",
              "    }\n",
              "</style>\n",
              "<table border=\"1\" class=\"dataframe\">\n",
              "  <thead>\n",
              "    <tr style=\"text-align: right;\">\n",
              "      <th></th>\n",
              "      <th>id</th>\n",
              "      <th>followers</th>\n",
              "      <th>comments</th>\n",
              "      <th>posts</th>\n",
              "      <th>likes</th>\n",
              "      <th>ts</th>\n",
              "    </tr>\n",
              "  </thead>\n",
              "  <tbody>\n",
              "    <tr>\n",
              "      <th>0</th>\n",
              "      <td>6e56f910</td>\n",
              "      <td>1804</td>\n",
              "      <td>2</td>\n",
              "      <td>851</td>\n",
              "      <td>73</td>\n",
              "      <td>2017-10-08 16:21:28</td>\n",
              "    </tr>\n",
              "    <tr>\n",
              "      <th>1</th>\n",
              "      <td>0bea9208</td>\n",
              "      <td>542</td>\n",
              "      <td>1</td>\n",
              "      <td>846</td>\n",
              "      <td>7</td>\n",
              "      <td>2017-07-07 11:58:18</td>\n",
              "    </tr>\n",
              "    <tr>\n",
              "      <th>2</th>\n",
              "      <td>88ec6c3f</td>\n",
              "      <td>669</td>\n",
              "      <td>2</td>\n",
              "      <td>1495</td>\n",
              "      <td>33</td>\n",
              "      <td>2018-03-19 17:22:29</td>\n",
              "    </tr>\n",
              "    <tr>\n",
              "      <th>3</th>\n",
              "      <td>006b0d03</td>\n",
              "      <td>757</td>\n",
              "      <td>9</td>\n",
              "      <td>144</td>\n",
              "      <td>166</td>\n",
              "      <td>2018-09-02 18:49:52</td>\n",
              "    </tr>\n",
              "    <tr>\n",
              "      <th>4</th>\n",
              "      <td>c8a0f2a6</td>\n",
              "      <td>539</td>\n",
              "      <td>4</td>\n",
              "      <td>453</td>\n",
              "      <td>71</td>\n",
              "      <td>2018-04-18 14:15:36</td>\n",
              "    </tr>\n",
              "    <tr>\n",
              "      <th>...</th>\n",
              "      <td>...</td>\n",
              "      <td>...</td>\n",
              "      <td>...</td>\n",
              "      <td>...</td>\n",
              "      <td>...</td>\n",
              "      <td>...</td>\n",
              "    </tr>\n",
              "    <tr>\n",
              "      <th>2260897</th>\n",
              "      <td>f58b19ab</td>\n",
              "      <td>1847</td>\n",
              "      <td>14</td>\n",
              "      <td>678</td>\n",
              "      <td>166</td>\n",
              "      <td>2018-09-10 15:02:43</td>\n",
              "    </tr>\n",
              "    <tr>\n",
              "      <th>2260898</th>\n",
              "      <td>58433abf</td>\n",
              "      <td>237</td>\n",
              "      <td>1</td>\n",
              "      <td>192</td>\n",
              "      <td>31</td>\n",
              "      <td>2018-10-13 10:02:59</td>\n",
              "    </tr>\n",
              "    <tr>\n",
              "      <th>2260899</th>\n",
              "      <td>10c4b02c</td>\n",
              "      <td>267</td>\n",
              "      <td>2</td>\n",
              "      <td>110</td>\n",
              "      <td>35</td>\n",
              "      <td>2018-09-18 22:42:03</td>\n",
              "    </tr>\n",
              "    <tr>\n",
              "      <th>2260900</th>\n",
              "      <td>0f7064e1</td>\n",
              "      <td>214</td>\n",
              "      <td>3</td>\n",
              "      <td>53</td>\n",
              "      <td>50</td>\n",
              "      <td>2018-11-01 11:32:57</td>\n",
              "    </tr>\n",
              "    <tr>\n",
              "      <th>2260901</th>\n",
              "      <td>b0fd717e</td>\n",
              "      <td>510</td>\n",
              "      <td>0</td>\n",
              "      <td>417</td>\n",
              "      <td>31</td>\n",
              "      <td>2018-09-29 10:14:18</td>\n",
              "    </tr>\n",
              "  </tbody>\n",
              "</table>\n",
              "<p>2260902 rows × 6 columns</p>\n",
              "</div>\n",
              "    <div class=\"colab-df-buttons\">\n",
              "\n",
              "  <div class=\"colab-df-container\">\n",
              "    <button class=\"colab-df-convert\" onclick=\"convertToInteractive('df-46ee1095-8fd8-425e-84fc-e6caf166c2b6')\"\n",
              "            title=\"Convert this dataframe to an interactive table.\"\n",
              "            style=\"display:none;\">\n",
              "\n",
              "  <svg xmlns=\"http://www.w3.org/2000/svg\" height=\"24px\" viewBox=\"0 -960 960 960\">\n",
              "    <path d=\"M120-120v-720h720v720H120Zm60-500h600v-160H180v160Zm220 220h160v-160H400v160Zm0 220h160v-160H400v160ZM180-400h160v-160H180v160Zm440 0h160v-160H620v160ZM180-180h160v-160H180v160Zm440 0h160v-160H620v160Z\"/>\n",
              "  </svg>\n",
              "    </button>\n",
              "\n",
              "  <style>\n",
              "    .colab-df-container {\n",
              "      display:flex;\n",
              "      gap: 12px;\n",
              "    }\n",
              "\n",
              "    .colab-df-convert {\n",
              "      background-color: #E8F0FE;\n",
              "      border: none;\n",
              "      border-radius: 50%;\n",
              "      cursor: pointer;\n",
              "      display: none;\n",
              "      fill: #1967D2;\n",
              "      height: 32px;\n",
              "      padding: 0 0 0 0;\n",
              "      width: 32px;\n",
              "    }\n",
              "\n",
              "    .colab-df-convert:hover {\n",
              "      background-color: #E2EBFA;\n",
              "      box-shadow: 0px 1px 2px rgba(60, 64, 67, 0.3), 0px 1px 3px 1px rgba(60, 64, 67, 0.15);\n",
              "      fill: #174EA6;\n",
              "    }\n",
              "\n",
              "    .colab-df-buttons div {\n",
              "      margin-bottom: 4px;\n",
              "    }\n",
              "\n",
              "    [theme=dark] .colab-df-convert {\n",
              "      background-color: #3B4455;\n",
              "      fill: #D2E3FC;\n",
              "    }\n",
              "\n",
              "    [theme=dark] .colab-df-convert:hover {\n",
              "      background-color: #434B5C;\n",
              "      box-shadow: 0px 1px 3px 1px rgba(0, 0, 0, 0.15);\n",
              "      filter: drop-shadow(0px 1px 2px rgba(0, 0, 0, 0.3));\n",
              "      fill: #FFFFFF;\n",
              "    }\n",
              "  </style>\n",
              "\n",
              "    <script>\n",
              "      const buttonEl =\n",
              "        document.querySelector('#df-46ee1095-8fd8-425e-84fc-e6caf166c2b6 button.colab-df-convert');\n",
              "      buttonEl.style.display =\n",
              "        google.colab.kernel.accessAllowed ? 'block' : 'none';\n",
              "\n",
              "      async function convertToInteractive(key) {\n",
              "        const element = document.querySelector('#df-46ee1095-8fd8-425e-84fc-e6caf166c2b6');\n",
              "        const dataTable =\n",
              "          await google.colab.kernel.invokeFunction('convertToInteractive',\n",
              "                                                    [key], {});\n",
              "        if (!dataTable) return;\n",
              "\n",
              "        const docLinkHtml = 'Like what you see? Visit the ' +\n",
              "          '<a target=\"_blank\" href=https://colab.research.google.com/notebooks/data_table.ipynb>data table notebook</a>'\n",
              "          + ' to learn more about interactive tables.';\n",
              "        element.innerHTML = '';\n",
              "        dataTable['output_type'] = 'display_data';\n",
              "        await google.colab.output.renderOutput(dataTable, element);\n",
              "        const docLink = document.createElement('div');\n",
              "        docLink.innerHTML = docLinkHtml;\n",
              "        element.appendChild(docLink);\n",
              "      }\n",
              "    </script>\n",
              "  </div>\n",
              "\n",
              "\n",
              "<div id=\"df-59a20456-337d-4e63-8596-0beba95e66b7\">\n",
              "  <button class=\"colab-df-quickchart\" onclick=\"quickchart('df-59a20456-337d-4e63-8596-0beba95e66b7')\"\n",
              "            title=\"Suggest charts\"\n",
              "            style=\"display:none;\">\n",
              "\n",
              "<svg xmlns=\"http://www.w3.org/2000/svg\" height=\"24px\"viewBox=\"0 0 24 24\"\n",
              "     width=\"24px\">\n",
              "    <g>\n",
              "        <path d=\"M19 3H5c-1.1 0-2 .9-2 2v14c0 1.1.9 2 2 2h14c1.1 0 2-.9 2-2V5c0-1.1-.9-2-2-2zM9 17H7v-7h2v7zm4 0h-2V7h2v10zm4 0h-2v-4h2v4z\"/>\n",
              "    </g>\n",
              "</svg>\n",
              "  </button>\n",
              "\n",
              "<style>\n",
              "  .colab-df-quickchart {\n",
              "      --bg-color: #E8F0FE;\n",
              "      --fill-color: #1967D2;\n",
              "      --hover-bg-color: #E2EBFA;\n",
              "      --hover-fill-color: #174EA6;\n",
              "      --disabled-fill-color: #AAA;\n",
              "      --disabled-bg-color: #DDD;\n",
              "  }\n",
              "\n",
              "  [theme=dark] .colab-df-quickchart {\n",
              "      --bg-color: #3B4455;\n",
              "      --fill-color: #D2E3FC;\n",
              "      --hover-bg-color: #434B5C;\n",
              "      --hover-fill-color: #FFFFFF;\n",
              "      --disabled-bg-color: #3B4455;\n",
              "      --disabled-fill-color: #666;\n",
              "  }\n",
              "\n",
              "  .colab-df-quickchart {\n",
              "    background-color: var(--bg-color);\n",
              "    border: none;\n",
              "    border-radius: 50%;\n",
              "    cursor: pointer;\n",
              "    display: none;\n",
              "    fill: var(--fill-color);\n",
              "    height: 32px;\n",
              "    padding: 0;\n",
              "    width: 32px;\n",
              "  }\n",
              "\n",
              "  .colab-df-quickchart:hover {\n",
              "    background-color: var(--hover-bg-color);\n",
              "    box-shadow: 0 1px 2px rgba(60, 64, 67, 0.3), 0 1px 3px 1px rgba(60, 64, 67, 0.15);\n",
              "    fill: var(--button-hover-fill-color);\n",
              "  }\n",
              "\n",
              "  .colab-df-quickchart-complete:disabled,\n",
              "  .colab-df-quickchart-complete:disabled:hover {\n",
              "    background-color: var(--disabled-bg-color);\n",
              "    fill: var(--disabled-fill-color);\n",
              "    box-shadow: none;\n",
              "  }\n",
              "\n",
              "  .colab-df-spinner {\n",
              "    border: 2px solid var(--fill-color);\n",
              "    border-color: transparent;\n",
              "    border-bottom-color: var(--fill-color);\n",
              "    animation:\n",
              "      spin 1s steps(1) infinite;\n",
              "  }\n",
              "\n",
              "  @keyframes spin {\n",
              "    0% {\n",
              "      border-color: transparent;\n",
              "      border-bottom-color: var(--fill-color);\n",
              "      border-left-color: var(--fill-color);\n",
              "    }\n",
              "    20% {\n",
              "      border-color: transparent;\n",
              "      border-left-color: var(--fill-color);\n",
              "      border-top-color: var(--fill-color);\n",
              "    }\n",
              "    30% {\n",
              "      border-color: transparent;\n",
              "      border-left-color: var(--fill-color);\n",
              "      border-top-color: var(--fill-color);\n",
              "      border-right-color: var(--fill-color);\n",
              "    }\n",
              "    40% {\n",
              "      border-color: transparent;\n",
              "      border-right-color: var(--fill-color);\n",
              "      border-top-color: var(--fill-color);\n",
              "    }\n",
              "    60% {\n",
              "      border-color: transparent;\n",
              "      border-right-color: var(--fill-color);\n",
              "    }\n",
              "    80% {\n",
              "      border-color: transparent;\n",
              "      border-right-color: var(--fill-color);\n",
              "      border-bottom-color: var(--fill-color);\n",
              "    }\n",
              "    90% {\n",
              "      border-color: transparent;\n",
              "      border-bottom-color: var(--fill-color);\n",
              "    }\n",
              "  }\n",
              "</style>\n",
              "\n",
              "  <script>\n",
              "    async function quickchart(key) {\n",
              "      const quickchartButtonEl =\n",
              "        document.querySelector('#' + key + ' button');\n",
              "      quickchartButtonEl.disabled = true;  // To prevent multiple clicks.\n",
              "      quickchartButtonEl.classList.add('colab-df-spinner');\n",
              "      try {\n",
              "        const charts = await google.colab.kernel.invokeFunction(\n",
              "            'suggestCharts', [key], {});\n",
              "      } catch (error) {\n",
              "        console.error('Error during call to suggestCharts:', error);\n",
              "      }\n",
              "      quickchartButtonEl.classList.remove('colab-df-spinner');\n",
              "      quickchartButtonEl.classList.add('colab-df-quickchart-complete');\n",
              "    }\n",
              "    (() => {\n",
              "      let quickchartButtonEl =\n",
              "        document.querySelector('#df-59a20456-337d-4e63-8596-0beba95e66b7 button');\n",
              "      quickchartButtonEl.style.display =\n",
              "        google.colab.kernel.accessAllowed ? 'block' : 'none';\n",
              "    })();\n",
              "  </script>\n",
              "</div>\n",
              "    </div>\n",
              "  </div>\n"
            ]
          },
          "metadata": {},
          "execution_count": 115
        }
      ]
    },
    {
      "cell_type": "code",
      "source": [
        "df_posts=pd.read_csv(\"posts.csv\")"
      ],
      "metadata": {
        "id": "UgS9jDSjRWgO"
      },
      "id": "UgS9jDSjRWgO",
      "execution_count": null,
      "outputs": []
    },
    {
      "cell_type": "markdown",
      "id": "51e96e22-4525-4b9d-8977-fd96be9ce0f2",
      "metadata": {
        "id": "51e96e22-4525-4b9d-8977-fd96be9ce0f2"
      },
      "source": [
        "b) Column `id` designates the author. How many **unique** authors do we have ?"
      ]
    },
    {
      "cell_type": "code",
      "execution_count": null,
      "id": "ae6dec7a-aab7-40da-9318-3d5f40cd7c7e",
      "metadata": {
        "id": "ae6dec7a-aab7-40da-9318-3d5f40cd7c7e",
        "colab": {
          "base_uri": "https://localhost:8080/"
        },
        "outputId": "739143e9-f9d0-4781-83e1-8828dbeed4ec"
      },
      "outputs": [
        {
          "output_type": "stream",
          "name": "stdout",
          "text": [
            "9298\n"
          ]
        }
      ],
      "source": [
        "unique_authors = df_posts['id'].nunique()\n",
        "\n",
        "print(unique_authors)"
      ]
    },
    {
      "cell_type": "markdown",
      "source": [
        "c) Sort `df_posts` by **ascending date**."
      ],
      "metadata": {
        "id": "UmqAVz9xnO6z"
      },
      "id": "UmqAVz9xnO6z"
    },
    {
      "cell_type": "code",
      "source": [
        "\n",
        "df_posts_sort = df_posts.sort_values(by='ts', ascending=True)\n",
        "\n",
        "print(df_posts_sort)\n"
      ],
      "metadata": {
        "id": "bygzAgYynW5N",
        "colab": {
          "base_uri": "https://localhost:8080/"
        },
        "outputId": "21d9355a-c813-4060-801a-d3fdbf6381ef"
      },
      "id": "bygzAgYynW5N",
      "execution_count": null,
      "outputs": [
        {
          "output_type": "stream",
          "name": "stdout",
          "text": [
            "               id  followers  comments  posts  likes                   ts\n",
            "651352   8fd5eb8f        560         1   1270      8  2015-01-01 00:00:03\n",
            "1066195  e118b32e        711         0    646     23  2015-01-01 00:00:37\n",
            "1275101  c2c2c06e       1703         0    811     18  2015-01-01 00:03:10\n",
            "404586   d15ab509        357         1    794     10  2015-01-01 00:04:01\n",
            "1180122  9473b9d1        207         0    217      2  2015-01-01 00:04:18\n",
            "...           ...        ...       ...    ...    ...                  ...\n",
            "1747502  bd90c5ec        840         1    120    107  2019-03-10 23:53:48\n",
            "673328   2e246173        582         2     12     27  2019-03-10 23:53:54\n",
            "1860496  b0817588       1751         0    704     23  2019-03-10 23:54:41\n",
            "1883069  4bdf6fc3       1250         2    303     42  2019-03-10 23:57:42\n",
            "1487881  b74fb885        645         0    192      3  2019-03-10 23:58:31\n",
            "\n",
            "[2260902 rows x 6 columns]\n"
          ]
        }
      ]
    },
    {
      "cell_type": "markdown",
      "id": "5aaf8614-859b-4b6d-a999-f34768893e19",
      "metadata": {
        "id": "5aaf8614-859b-4b6d-a999-f34768893e19"
      },
      "source": [
        "d) This dataset contains several posts for the same author.\n",
        "\n",
        "By using the pandas function `drop_duplicates()` with parameter `keep=last`, **keep only the last post** made by each author.\n",
        "\n",
        "This should leave you with a dataframe with as many rows as unique authors!"
      ]
    },
    {
      "cell_type": "code",
      "execution_count": null,
      "id": "64377c38-f734-4bc2-a74f-9ebc79e95ad0",
      "metadata": {
        "id": "64377c38-f734-4bc2-a74f-9ebc79e95ad0",
        "colab": {
          "base_uri": "https://localhost:8080/"
        },
        "outputId": "56d23b80-5a2d-4a5b-9d68-0af5dbcbe915"
      },
      "outputs": [
        {
          "output_type": "stream",
          "name": "stdout",
          "text": [
            "               id  followers  comments  posts  likes                   ts\n",
            "2348     e2b204d6        300         0     24     24  2019-03-06 21:34:44\n",
            "26410    4fc6881c       1979         3     32    196  2018-11-27 14:51:40\n",
            "60955    a1948a12        559         2     10    123  2019-03-03 13:05:09\n",
            "61218    855df923        219         4      5     29  2019-03-09 12:52:56\n",
            "61282    db82b4f7        537         4     10     66  2019-03-08 17:01:38\n",
            "...           ...        ...       ...    ...    ...                  ...\n",
            "2260897  f58b19ab       1847        14    678    166  2018-09-10 15:02:43\n",
            "2260898  58433abf        237         1    192     31  2018-10-13 10:02:59\n",
            "2260899  10c4b02c        267         2    110     35  2018-09-18 22:42:03\n",
            "2260900  0f7064e1        214         3     53     50  2018-11-01 11:32:57\n",
            "2260901  b0fd717e        510         0    417     31  2018-09-29 10:14:18\n",
            "\n",
            "[9298 rows x 6 columns]\n"
          ]
        }
      ],
      "source": [
        "\n",
        "df_last_posts = df_posts.drop_duplicates(subset='id', keep='last')\n",
        "\n",
        "# To Display the dataframe with only the last post of each author\n",
        "\n",
        "print(df_last_posts)\n"
      ]
    },
    {
      "cell_type": "markdown",
      "id": "bcf974dc-178f-4f44-9918-004fc363e42d",
      "metadata": {
        "id": "bcf974dc-178f-4f44-9918-004fc363e42d"
      },
      "source": [
        "e) Use Plotly to draw a scatter plot between likes and followers. Do you see any **correlation**?\n"
      ]
    },
    {
      "cell_type": "code",
      "execution_count": null,
      "id": "e2c1a83f-5b00-4844-ba01-ec82aafc0932",
      "metadata": {
        "id": "e2c1a83f-5b00-4844-ba01-ec82aafc0932",
        "colab": {
          "base_uri": "https://localhost:8080/",
          "height": 542
        },
        "outputId": "24338702-b619-4aeb-d401-6cce1135ea8e"
      },
      "outputs": [
        {
          "output_type": "display_data",
          "data": {
            "text/html": [
              "<html>\n",
              "<head><meta charset=\"utf-8\" /></head>\n",
              "<body>\n",
              "    <div>            <script src=\"https://cdnjs.cloudflare.com/ajax/libs/mathjax/2.7.5/MathJax.js?config=TeX-AMS-MML_SVG\"></script><script type=\"text/javascript\">if (window.MathJax && window.MathJax.Hub && window.MathJax.Hub.Config) {window.MathJax.Hub.Config({SVG: {font: \"STIX-Web\"}});}</script>                <script type=\"text/javascript\">window.PlotlyConfig = {MathJaxConfig: 'local'};</script>\n",
              "        <script charset=\"utf-8\" src=\"https://cdn.plot.ly/plotly-2.24.1.min.js\"></script>                <div id=\"51f05d38-4443-42c5-bdbb-c79e9d1bfb22\" class=\"plotly-graph-div\" style=\"height:525px; width:100%;\"></div>            <script type=\"text/javascript\">                                    window.PLOTLYENV=window.PLOTLYENV || {};                                    if (document.getElementById(\"51f05d38-4443-42c5-bdbb-c79e9d1bfb22\")) {                    Plotly.newPlot(                        \"51f05d38-4443-42c5-bdbb-c79e9d1bfb22\",                        [{\"hovertemplate\":\"followers=%{x}\\u003cbr\\u003elikes=%{y}\\u003cextra\\u003e\\u003c\\u002fextra\\u003e\",\"legendgroup\":\"\",\"marker\":{\"color\":\"#636efa\",\"symbol\":\"circle\"},\"mode\":\"markers\",\"name\":\"\",\"showlegend\":false,\"x\":[300,1979,559,219,537,1682,259,1755,648,472,875,1038,894,56,1220,255,375,595,254,284,1898,371,1042,1573,155,582,277,1238,402,1005,590,316,348,652,728,1646,488,173,1791,183,112,725,1197,312,555,505,337,369,1066,50,874,408,455,1171,1188,350,1916,1104,247,174,235,837,154,846,1045,371,504,1020,533,513,732,1538,394,1985,1580,1196,143,988,1591,209,929,613,301,1318,899,279,180,731,642,164,835,968,907,520,330,936,781,279,232,1128,64,187,804,444,388,73,982,1016,512,1320,95,619,404,363,282,696,573,159,761,488,466,246,1878,271,632,776,871,398,287,251,184,122,1331,1315,1372,703,633,306,576,1050,78,668,910,1449,530,759,379,871,625,377,690,1490,1783,192,416,1160,556,1009,186,350,688,771,633,1365,590,1467,522,709,442,306,186,1014,361,585,1133,129,1107,643,513,515,542,287,1437,488,782,320,754,226,593,535,883,236,914,1658,758,1395,529,426,890,174,1085,1339,1744,1430,1151,339,935,330,375,461,187,169,1323,666,800,956,1965,422,257,1356,1021,1570,312,850,628,359,447,192,370,585,961,800,460,785,1112,1187,557,805,1423,1253,968,503,428,1950,266,173,1001,146,447,261,843,869,178,315,1025,801,878,1763,1275,153,1595,148,1060,151,430,962,182,164,1949,186,1537,314,491,1504,946,1667,499,384,302,550,590,1114,330,476,934,240,112,98,144,1816,419,185,70,1936,864,731,840,1095,1227,1176,521,1068,545,908,320,319,1655,1824,949,1498,1297,293,534,1110,271,456,360,250,625,419,205,252,671,672,1318,529,982,684,336,525,784,1593,919,1412,827,1655,768,715,454,761,1062,1512,751,1191,323,202,444,1907,618,1217,902,618,277,759,649,1581,1639,656,995,829,1032,845,1268,240,1385,482,1908,931,212,577,375,571,443,1170,1932,238,872,1381,306,1022,253,602,327,1252,648,863,272,253,892,481,1220,1118,489,141,538,390,466,124,638,200,976,1451,738,349,1166,663,1708,1284,1015,805,1629,993,432,958,429,966,1232,901,681,537,316,606,275,1006,568,101,429,490,165,340,714,1089,311,690,1193,1220,391,1081,429,151,1320,1154,1604,570,1511,236,859,285,314,571,736,317,1348,585,1312,540,538,353,619,264,213,891,148,1808,335,586,734,318,587,227,1854,758,92,292,367,184,1380,991,209,791,399,379,467,1597,112,889,390,343,468,1531,539,1432,163,351,1119,1217,1394,433,245,392,335,304,1156,748,242,790,607,1793,524,905,1010,1679,832,312,438,848,697,413,234,1294,575,472,882,1886,112,521,261,1059,159,274,1688,237,284,525,715,1843,596,677,1587,432,371,272,967,389,520,1823,336,393,321,1977,301,325,401,347,523,1663,269,216,717,1839,1736,1768,1325,387,1222,674,757,50,660,28,352,322,307,702,156,1994,556,1036,1465,1992,1138,1896,1997,1980,324,1891,1607,1600,1734,901,371,1675,1481,679,688,102,42,1013,1618,31,312,332,738,1938,125,348,778,1652,1260,253,512,619,1858,726,808,1936,657,169,397,1495,429,1292,1185,751,861,1537,40,1524,962,595,1286,1834,1545,359,259,1767,881,474,233,1,1719,1996,227,1505,1012,1614,686,130,1043,283,214,255,849,1932,310,262,1120,750,76,271,1490,655,582,347,529,1353,139,166,859,1641,67,812,511,425,706,317,241,639,217,324,200,913,101,523,331,606,84,679,426,612,734,385,107,331,240,282,939,326,262,1573,1977,1991,1947,1613,1933,1589,1754,1639,1822,1895,1980,1958,1952,1893,1681,1849,1835,1686,1638,1511,1691,1611,1715,1602,1464,1515,1760,1523,1600,1442,1738,1575,1658,1695,1811,1828,1694,1842,1742,1700,1846,1677,1889,1883,1998,1822,1787,1569,1923,1553,1939,1644,1729,1914,1779,1821,1550,1900,1108,264,1899,1947,1458,1663,1971,1640,1509,1886,1503,1931,1919,1258,1496,1813,1519,1480,1520,1655,1214,1627,1567,1708,1792,1727,1894,1707,1265,1307,1215,1488,1566,1484,1425,1311,1503,1344,1366,1403,1737,1465,1504,1791,1334,1414,1354,1333,1222,1311,1329,1246,1355,1335,1578,1506,1336,1256,1265,1470,1701,1219,1158,1362,994,954,974,990,1439,1226,1268,1435,1168,1289,1424,1229,1206,1250,1290,1422,1679,1188,1234,1367,1529,1410,1370,1460,1301,1395,1219,1312,1014,1248,1532,1354,1250,1462,1528,1854,1027,1169,982,1004,994,1018,1116,1027,1479,1130,1069,1085,955,1117,1046,1105,1113,139,1203,1240,1171,1070,1013,989,1088,955,1017,1018,1001,1076,1888,1010,1023,1138,1033,1081,1058,1191,943,1187,1210,1046,1165,1113,1334,1143,1111,1023,1683,1241,1059,1082,1170,1535,1079,1158,978,1111,1047,1141,1203,1159,1067,1313,1153,1100,1387,1323,1210,1099,1117,1191,1098,1092,990,1124,742,1023,860,724,896,842,886,931,961,963,787,970,880,788,931,889,591,440,924,951,907,953,897,969,959,1030,817,776,842,1098,1010,876,694,927,850,1022,967,927,1012,831,794,918,848,955,1019,1196,772,977,790,995,976,895,968,957,888,1056,813,842,1179,877,937,820,832,979,837,983,974,929,945,932,951,938,627,810,646,666,682,804,786,624,656,733,828,810,785,833,963,655,833,640,673,707,686,630,734,728,721,860,744,644,629,599,618,712,779,688,717,725,679,709,760,656,896,773,714,759,637,723,800,840,686,680,1288,711,792,594,731,1884,600,656,715,681,700,715,704,664,666,749,791,697,674,703,754,666,785,704,736,668,806,767,731,800,621,681,1071,1790,569,675,570,551,604,1992,853,527,573,560,583,544,487,538,603,597,570,548,521,529,541,610,544,718,850,551,679,492,557,571,936,539,507,508,557,588,487,641,535,567,531,540,485,483,1031,465,475,508,577,526,516,525,570,549,542,1867,502,479,498,459,485,575,483,772,276,512,466,562,541,501,608,503,541,537,488,613,495,627,599,679,545,608,573,679,434,520,482,502,397,531,538,1497,450,365,355,463,386,287,371,441,424,404,356,399,433,362,395,368,358,1632,424,427,395,435,319,359,702,425,376,440,384,443,450,542,432,458,464,432,413,383,421,400,719,431,377,331,497,422,377,381,411,446,347,497,423,363,354,360,350,381,502,381,376,388,335,488,421,325,420,401,396,412,368,340,404,423,360,380,363,357,426,427,408,458,347,224,268,291,237,204,336,251,296,272,267,327,282,314,256,272,296,227,223,214,198,227,243,271,275,227,287,287,318,309,267,208,245,264,264,254,233,215,199,203,201,196,1361,214,223,201,239,196,744,251,271,246,272,327,269,272,1822,583,436,1624,1437,716,532,1448,250,305,219,295,257,358,281,248,402,314,308,202,311,308,873,377,254,269,62,100,51,95,1391,692,393,105,80,59,78,149,135,77,97,105,110,151,162,101,114,132,75,165,209,161,177,138,194,200,127,111,187,138,175,43,94,347,128,122,135,135,123,116,267,168,156,126,176,111,195,914,1135,660,477,294,643,1089,893,785,156,1079,289,1031,808,752,1350,321,734,932,779,948,566,34,847,472,874,1546,62,585,268,804,792,990,417,1610,490,544,374,594,616,162,960,925,700,727,242,451,1107,1375,863,1464,345,1816,993,267,1279,689,938,361,543,628,60,255,1342,927,936,742,129,1758,1171,370,628,247,1255,801,620,481,296,1334,238,1155,1022,240,347,581,505,290,789,1102,1480,987,286,879,1682,611,1621,801,1505,347,576,550,625,278,434,987,1077,1384,813,607,384,543,22,1648,1104,402,1559,287,511,1162,605,802,816,846,272,225,375,51,279,1132,260,764,1577,162,237,314,1017,1031,933,244,358,1774,1638,203,1184,1369,507,214,58,254,568,235,595,841,496,429,580,354,311,447,939,439,708,1620,963,151,1357,1691,379,1956,281,529,897,952,983,640,424,775,738,818,1477,674,911,307,436,1968,1854,399,377,494,303,579,213,360,1963,1311,738,1406,1004,480,553,523,1451,304,1641,432,367,155,1098,210,441,1003,276,248,1754,376,776,1825,536,259,443,1594,970,764,680,392,672,1789,270,303,778,1607,1233,1092,1211,466,492,863,1211,343,246,568,188,1102,1108,152,566,1550,368,773,341,223,199,1851,56,623,459,226,1012,322,1070,528,1006,1062,1005,433,30,317,1330,214,867,928,360,368,498,273,937,233,689,1969,737,737,272,468,103,189,194,529,449,45,327,543,454,962,116,674,791,541,1201,69,497,728,421,678,568,392,874,533,283,216,550,1233,442,1113,1440,803,543,1064,234,197,1745,589,330,1096,429,744,203,842,1078,572,402,1809,83,612,736,460,101,63,536,372,1568,1007,1227,923,699,1702,731,1425,298,164,451,166,938,325,482,561,859,1422,1318,1401,840,337,747,493,490,377,52,796,1060,1034,1245,63,1529,542,953,600,392,125,1295,985,316,86,54,129,109,117,218,173,73,79,685,615,851,467,230,471,737,661,201,362,86,125,559,555,311,485,644,36,1764,322,892,1824,466,1231,666,487,289,1021,718,470,1091,174,100,154,187,72,59,177,150,138,151,67,150,97,142,150,164,89,138,140,147,184,175,161,108,74,163,97,151,116,195,118,95,132,159,160,194,119,115,153,208,173,150,200,136,375,457,563,846,332,627,813,364,472,708,1203,1201,1238,267,640,1057,55,1056,258,640,1883,709,226,265,56,1247,464,139,871,1091,767,1827,52,75,108,57,132,86,185,64,61,180,221,38,152,50,170,180,104,192,238,187,56,190,1165,578,1242,320,1433,1267,346,114,723,1157,513,929,1037,1962,1586,215,745,87,966,126,478,1931,433,930,687,52,581,136,170,1717,1007,683,1428,1975,475,384,686,1046,1950,849,814,315,292,813,114,1743,374,75,166,733,1267,335,1136,369,1013,1347,481,1820,955,539,530,1069,1601,696,1547,1901,347,497,980,438,458,166,95,326,380,1097,181,1608,692,1726,837,700,179,208,298,263,777,171,481,383,510,517,1254,589,997,198,1515,300,559,521,766,1471,458,577,468,1199,743,288,1208,862,247,718,304,1022,1766,1182,70,533,174,567,1883,1246,811,993,359,1298,681,802,242,529,234,949,1819,271,551,1030,898,762,1713,414,1275,121,306,1041,89,1019,551,548,341,321,1033,145,736,502,1141,505,1025,1019,1298,1016,1189,185,829,609,276,218,1965,1151,80,963,1036,1507,993,62,406,1409,218,283,414,1770,1202,345,166,207,570,1195,1731,529,717,747,435,562,129,739,730,430,171,538,324,1028,455,574,1260,101,411,913,176,1742,637,389,56,1783,317,817,1071,1810,237,1091,392,159,640,622,328,613,111,152,725,913,1500,1348,910,692,943,267,452,873,486,225,451,1568,1151,1482,467,1424,765,457,1018,932,758,1303,1632,505,127,1426,1202,637,1063,181,275,432,1016,1123,299,289,226,620,1167,63,569,151,574,396,1903,274,1238,350,598,1253,540,1120,1281,1214,92,1541,544,364,1213,1252,294,1017,419,595,1925,599,287,734,85,1869,1007,140,1698,1031,1579,753,261,140,392,122,1614,1018,1711,1658,958,687,445,747,1406,1826,1401,66,1240,736,140,226,783,215,633,1052,197,1220,1356,1810,936,516,645,1451,1211,1419,184,760,122,1172,1445,1374,1396,209,1278,725,1416,1071,764,203,1328,1052,1358,1892,1757,520,1458,1879,1902,330,329,677,245,1155,771,1144,300,1882,960,1252,183,783,1299,37,907,1196,973,1297,764,887,555,263,1141,863,595,298,742,835,1581,419,1141,74,423,376,453,343,287,1211,571,533,735,377,565,963,1220,801,645,363,677,1011,429,1623,1459,396,714,1390,1634,1475,297,421,1204,507,1382,524,1044,1628,1252,1190,1917,957,660,116,399,1496,1492,1962,1988,880,1653,268,1117,468,1418,284,1116,624,340,936,374,629,1878,988,193,1388,591,1549,977,538,1162,611,586,1808,800,1611,407,389,518,1533,407,143,137,825,1155,1899,275,766,1925,1103,1389,947,848,630,1363,430,517,50,1188,1061,137,1142,551,1766,551,424,143,93,1060,797,424,1431,1007,918,177,68,597,164,630,215,250,170,443,1139,599,368,887,339,823,1336,1124,1192,1055,778,831,1943,976,1900,621,905,338,950,1448,1104,512,485,254,648,732,789,900,823,394,455,188,624,396,195,223,110,393,1373,1442,162,284,693,1472,478,675,1763,223,411,410,1140,297,726,1031,319,609,222,158,209,1639,833,1662,464,1360,268,1066,507,268,1448,838,1165,1604,1345,1399,1033,577,727,153,182,77,612,332,1105,390,1094,688,124,982,1564,1326,472,287,1278,1673,1925,1416,1452,1366,1307,366,461,441,570,586,999,1709,347,117,1683,1108,1037,1399,145,278,1120,947,403,1872,875,335,1780,216,1586,118,616,208,59,740,1663,1247,616,568,475,1057,735,794,1646,999,795,1667,1201,226,504,926,510,283,581,576,959,646,167,993,396,1227,502,1021,653,549,324,530,240,443,952,195,103,255,1503,448,1266,743,1535,965,303,349,1163,185,1126,1468,172,153,1532,126,108,452,278,1010,525,975,266,1956,644,380,1068,326,1502,1314,695,1491,917,194,480,323,380,632,395,1229,1606,1757,699,813,357,921,1075,851,806,925,188,232,278,942,1171,733,1387,889,1985,1066,270,909,569,699,309,256,343,1668,474,232,1842,1099,1217,1136,1649,634,1388,1496,1669,601,875,115,609,889,1643,981,845,180,1624,324,1969,413,1114,1597,1680,142,1625,968,1053,162,662,918,1049,801,626,1261,652,1817,323,1968,1428,1270,959,327,552,643,799,1518,431,524,285,180,329,945,655,1215,865,1262,789,1012,801,1059,648,1215,1029,707,1140,791,1320,1156,1453,1642,789,590,718,354,1282,1759,456,669,522,385,247,1050,1515,1648,619,1143,1432,166,929,1411,1386,1203,308,650,325,700,909,795,1366,1442,227,434,1876,1097,834,1097,945,788,1496,273,318,1971,1466,1669,163,779,1430,1124,698,562,1688,963,651,219,402,1203,1463,1071,1213,895,163,499,310,685,158,480,728,1203,1161,411,1525,763,1396,1440,740,1373,1987,396,675,186,1428,1876,602,280,673,667,701,1552,1055,244,1208,427,1657,1733,1101,1201,653,997,273,1638,611,873,597,1191,1096,1650,518,1439,1310,187,689,945,448,644,1122,470,257,870,244,779,565,473,286,988,1990,1300,451,351,734,649,718,1009,283,581,1162,193,1322,1347,1268,655,195,1787,171,825,1603,1441,741,684,435,1813,1366,356,1044,700,319,274,1060,1754,577,1476,1888,1601,1760,1215,397,943,672,545,1313,1033,393,722,1451,1716,872,1174,225,986,1405,1095,448,1178,147,682,472,339,253,1537,1126,1527,170,514,1577,1646,280,1460,724,740,1406,534,1384,1700,1777,582,430,395,1570,1180,1321,85,1371,756,935,1461,92,331,1462,526,1603,1442,1435,156,95,1500,186,264,1317,1143,1086,1277,1463,1857,864,1049,779,1153,1321,412,931,597,1283,65,715,888,246,270,91,41,136,258,285,309,223,266,314,398,1313,252,1019,620,815,1405,363,1178,1192,478,382,400,515,614,514,879,1083,585,1925,386,150,50,830,406,740,891,823,171,843,1874,126,1232,326,878,1296,130,124,133,260,1641,1705,1712,1876,1207,1750,1876,624,753,685,736,93,581,119,301,1912,808,615,206,1572,966,1466,1061,1336,936,1007,404,1032,577,357,1734,20,1284,1186,217,532,1641,393,106,1228,1236,1101,1160,1414,894,796,202,262,1940,250,368,343,1257,690,448,1769,1140,1,448,421,557,455,397,581,489,622,530,1779,670,1382,1245,1376,46,135,205,355,450,562,258,414,446,99,260,512,1737,265,256,687,913,412,768,944,1759,705,692,1019,921,873,844,979,784,507,299,181,582,725,1010,468,1321,1560,1256,366,803,718,946,1259,498,1254,1357,1649,1058,1092,1108,1336,1261,560,568,509,499,1168,1616,778,1021,200,813,45,534,80,513,707,446,428,1478,1206,1143,753,384,1100,1359,1860,937,205,372,243,321,361,984,562,1780,1764,1609,881,1127,1170,1185,1332,1009,843,1418,47,375,1366,1510,1344,1946,1210,283,109,340,340,1317,1585,484,1519,1076,911,572,543,662,182,1343,263,1077,87,385,201,449,547,1519,1240,239,661,250,616,1049,972,308,554,845,674,390,700,123,1312,827,771,814,147,378,411,1425,281,1565,1026,463,1726,1071,1046,573,461,1347,639,1430,1563,1454,1615,1844,1539,1386,134,322,1261,1181,600,229,640,1308,1439,868,1678,684,60,170,356,696,584,1045,1379,1380,166,411,512,44,399,893,621,833,1020,1252,1419,1385,122,281,1600,153,390,674,1445,1106,1145,1056,1988,648,1800,960,1214,1039,908,302,79,304,1755,237,295,406,432,354,799,1099,1003,1057,1249,925,653,829,933,1078,1013,282,1599,318,840,888,195,764,535,630,772,764,621,742,1126,265,686,786,1019,1111,968,1602,460,122,94,223,477,537,644,652,625,1122,962,1255,1405,1892,1818,1351,1461,1481,469,1952,1089,426,1416,1506,775,1142,564,218,243,1783,1166,1052,1245,1076,1090,462,1043,554,377,721,1858,1126,719,1201,522,1838,480,577,1766,62,841,272,1896,74,232,577,1173,139,658,284,367,282,1229,1113,1272,1746,398,458,478,437,64,224,214,1419,882,343,94,367,992,899,1600,1720,806,517,1163,395,381,275,116,1104,522,682,1735,813,827,1045,387,428,341,1172,1020,140,255,1304,406,566,379,221,1909,757,140,1848,1699,195,776,73,1190,1476,209,485,200,576,1224,1750,935,682,172,1227,1019,1879,587,1453,1682,182,1397,446,1993,39,750,407,1099,352,341,116,728,407,541,916,592,696,112,984,323,1851,1307,1203,441,467,1279,1105,90,803,1109,902,329,666,279,1613,313,1171,508,421,288,572,603,350,346,202,696,459,610,1898,330,1629,1430,167,210,101,159,289,1449,314,405,970,61,826,1030,907,855,839,127,96,681,973,980,983,721,410,367,819,822,902,589,161,63,295,523,279,1015,634,1930,374,412,185,449,1092,878,1648,915,309,1253,959,647,472,1218,303,454,486,225,651,608,711,442,148,1275,779,437,269,183,1883,1021,1022,218,59,77,973,954,1652,963,520,387,398,522,1068,1155,1863,787,1805,773,1159,164,1029,1143,1330,661,746,1711,48,850,807,1345,1923,706,655,1072,1424,1291,1649,1431,319,1257,596,555,845,633,940,905,850,332,874,1191,1354,573,1361,1032,525,345,1242,322,317,626,1149,1976,370,1266,822,1182,131,241,132,211,659,799,1661,410,1215,470,441,886,541,503,581,808,1075,498,836,806,1325,533,832,119,137,1321,215,550,733,378,310,737,412,257,388,699,704,175,308,261,587,1159,1074,1063,193,1277,158,1671,251,280,523,1927,1077,1309,407,1180,1214,1608,1111,1032,426,1720,1866,1242,1110,843,135,189,1319,1548,635,1234,1232,89,209,1507,328,1211,1373,123,1498,1085,1438,257,380,1654,1718,1952,67,1517,1167,1033,184,1257,428,404,815,98,361,1205,228,1327,225,417,561,422,1560,110,661,954,387,1169,396,437,517,391,348,372,438,551,535,1368,241,783,1096,1190,126,678,1427,1800,342,1884,1339,1289,1216,1958,737,445,807,415,1922,1216,658,761,332,500,403,135,1570,367,730,166,1616,628,225,1763,237,810,243,920,874,88,305,356,701,842,134,110,424,1294,1711,1585,67,118,193,180,174,220,80,214,480,936,673,638,685,701,703,198,891,192,764,628,791,718,789,219,1369,393,449,942,287,244,244,217,683,1204,700,1248,374,486,1600,660,831,683,1183,996,903,1770,1664,728,952,1114,758,1205,547,652,733,613,266,255,361,380,150,172,1819,631,1833,1995,1064,1189,627,1518,656,639,159,444,582,1865,1641,1837,189,847,880,637,667,496,403,665,623,510,563,567,445,451,423,452,49,213,351,510,743,487,553,495,436,200,444,1461,151,349,861,492,502,482,717,97,1194,495,1002,1023,401,143,271,1042,1484,727,1134,747,253,186,1828,1534,1926,445,1325,960,608,107,438,352,475,484,517,560,1082,557,1552,794,676,439,1358,490,1045,1237,1068,1145,1412,1081,1200,253,216,1091,537,334,829,1087,486,1301,155,98,404,580,1752,1099,563,234,1910,1802,1260,1011,1269,1335,1675,266,523,172,212,252,349,782,163,147,250,290,350,410,340,376,511,417,390,455,1309,1831,1218,1218,1992,1295,1409,1419,1426,1170,699,864,948,952,1433,569,1714,1393,1785,1702,1016,646,1485,488,172,215,1839,1622,966,1276,1311,1086,1410,1446,1275,1285,1377,1136,981,1138,1120,1145,1047,1238,1014,1862,534,1444,1796,1416,575,1944,1156,368,601,737,341,321,381,397,561,552,525,514,449,435,238,412,369,564,483,553,662,327,1867,1508,1152,1193,1208,1150,264,322,1771,1016,452,1524,356,220,1580,1128,471,231,1664,1683,1176,1430,1449,110,243,311,819,1340,1866,1931,210,270,358,1450,638,555,647,555,1634,1352,1540,1951,419,808,864,976,1949,963,674,615,875,1100,543,472,603,588,1515,683,896,797,803,945,970,976,973,849,818,893,660,851,695,653,693,713,717,702,712,809,642,483,990,654,67,184,120,103,143,159,174,187,178,157,1737,1539,963,623,626,628,651,638,936,339,833,725,1192,750,1057,1237,735,1603,726,688,671,903,1184,1933,742,1032,981,1120,1151,1204,1024,1724,1039,1218,1380,1346,1331,1369,1336,1401,1451,1526,1011,572,1445,241,737,1147,1028,1105,1157,1837,373,608,564,569,392,455,414,354,451,415,559,477,571,596,595,603,522,490,605,587,551,529,261,1495,1437,158,113,290,200,251,310,271,254,240,326,91,152,179,1214,941,212,713,80,147,257,1179,1153,417,523,354,618,523,746,634,1248,80,589,483,642,1751,684,964,909,919,857,1018,1008,877,1437,1723,1566,250,1143,337,355,1721,508,790,296,613,576,1662,693,675,600,156,1378,178,849,1739,120,173,406,780,1411,725,97,132,116,187,225,713,1290,1189,831,1282,94,1342,86,682,139,162,1244,1384,1450,1139,1132,1326,1495,1738,1886,1577,1035,1978,1015,388,469,667,860,131,1540,408,245,81,255,197,344,638,682,890,1022,756,743,821,321,95,677,69,126,969,741,759,900,103,1892,1999,1196,75,1147,1799,763,463,1041,1801,829,1213,1983,259,288,1988,975,14,203,1367,139,480,1152,183,1048,1126,242,571,1114,1950,266,1024,1997,1864,1428,238,435,1202,846,1480,934,1061,136,121,759,313,1041,1239,1326,52,125,547,1990,1934,1117,1619,402,285,351,20,942,1325,383,134,1825,698,282,785,1577,427,1617,567,1929,1652,906,621,567,1651,522,1345,599,385,636,1259,245,1532,1282,1161,594,1654,564,1980,1796,1326,1378,549,1220,478,1689,466,1374,360,873,962,261,331,579,1147,253,202,927,962,1800,816,1651,820,70,384,1575,1074,568,1103,426,1367,1281,1061,47,1652,638,1933,701,246,382,720,653,490,858,1780,342,1599,976,114,968,652,1855,586,309,591,346,611,448,395,656,1522,1140,1777,253,1019,1405,115,792,1289,643,599,144,838,192,314,296,850,575,671,200,1007,1531,395,1376,938,950,848,614,1065,1201,372,1004,52,146,343,807,41,898,766,443,393,973,45,507,781,1054,120,662,959,1849,627,1574,119,885,708,1100,252,657,1442,1693,719,472,592,122,1282,647,1358,142,1056,401,1108,532,286,255,810,1221,673,507,280,749,423,428,1647,1012,768,699,1234,580,558,1459,125,165,139,929,882,157,1242,1112,311,591,375,279,113,1175,910,368,651,321,1216,555,950,790,479,1580,231,1003,1453,115,585,390,1414,1886,836,912,1424,748,197,96,827,465,1292,125,1227,503,971,1024,411,1036,939,1159,127,594,677,905,1063,828,947,67,1115,321,947,1632,279,1017,1648,266,1234,443,654,391,973,305,197,139,1026,863,417,757,461,885,313,487,391,1580,281,97,452,527,349,928,27,253,1783,483,346,1205,732,685,523,411,635,732,327,333,1434,403,82,783,1668,394,208,233,292,1281,506,1178,176,773,1001,1535,409,601,222,933,820,638,91,177,259,605,786,249,742,197,1197,399,1332,345,796,143,1623,504,1452,163,464,665,541,367,1008,982,482,1237,1485,126,560,810,771,1078,901,1559,1125,367,1912,395,1328,538,697,1062,534,781,410,1034,1376,1068,720,1206,263,372,132,281,952,224,344,852,97,611,1587,522,1507,1800,428,639,1980,1949,385,476,1006,868,291,1863,909,199,985,1674,669,1170,481,1565,1650,801,1139,169,1725,1372,54,1780,377,1035,906,138,1329,212,178,865,1510,1100,694,93,1299,245,267,752,787,976,702,360,1016,374,1433,502,1161,299,340,1494,536,518,364,194,272,529,1247,1604,1571,753,1817,301,670,1010,167,97,394,429,1003,453,409,977,1461,657,230,891,409,1426,142,671,505,1475,1003,268,1079,1482,657,436,866,1899,306,739,979,1829,52,543,628,1320,533,419,1730,592,542,1450,968,656,1898,319,114,306,942,108,1074,1207,1022,441,613,462,1084,1360,558,168,723,358,1068,1566,1401,679,1479,280,760,730,307,943,219,554,1456,683,746,469,935,1100,715,624,1373,200,227,243,1257,826,1306,1282,407,487,1750,512,1365,352,1149,893,1410,236,1043,1886,284,415,1753,1770,893,863,592,528,1064,737,1431,1256,470,984,412,1425,245,568,142,608,1329,1029,453,138,109,1555,391,802,631,1126,1150,521,795,145,637,1870,488,1704,218,557,507,803,295,208,864,56,1017,817,986,311,544,972,993,205,1214,1071,794,635,428,83,571,665,979,395,441,968,767,112,368,1351,1439,1213,265,830,440,1169,1052,1187,941,924,717,531,697,518,570,1187,690,1178,1457,1357,137,1107,1135,62,266,35,863,436,153,718,663,553,857,1352,100,454,533,387,136,189,1140,76,725,1232,234,89,1586,280,659,643,394,673,1027,350,397,871,643,662,1610,147,304,449,395,541,265,574,214,187,795,108,294,568,455,257,607,1007,322,1073,1031,509,433,763,390,542,293,339,418,492,1113,969,1780,445,246,191,1714,963,416,200,409,471,1056,501,1372,348,237,603,1997,929,646,459,996,1039,540,658,326,568,667,1363,451,713,189,403,1411,644,264,844,267,201,443,522,332,461,212,326,1017,319,494,910,322,298,538,265,1623,1050,1005,691,194,1181,615,643,352,323,25,954,928,433,280,175,1115,1016,1486,545,313,991,293,202,862,916,995,595,522,1069,497,1078,1155,238,481,323,1946,958,296,390,681,905,393,1066,1142,514,1624,576,1193,461,81,821,1359,449,1050,384,259,600,629,1192,309,365,252,1504,611,1400,758,1590,517,707,1953,976,861,1300,935,310,441,1581,522,326,419,177,713,345,499,581,1160,604,272,1704,1269,421,1178,477,311,904,1327,1440,265,79,505,680,311,608,594,359,630,560,43,429,227,290,530,424,643,601,1385,1597,495,243,830,202,670,1663,211,397,312,1354,813,1740,449,1243,594,205,427,165,1047,1154,1308,811,245,143,262,881,1126,299,382,276,396,410,445,674,1188,707,211,368,528,287,1560,1796,328,377,49,349,380,1937,765,1541,1042,206,827,182,841,457,814,680,1259,609,772,684,1152,173,328,250,1112,692,708,522,478,322,637,1170,720,662,322,280,455,495,519,538,469,1234,424,1332,815,1260,340,299,1533,216,849,1248,1309,1426,1198,1743,479,84,1076,308,383,84,363,964,966,274,520,91,1650,839,164,1415,125,554,1406,778,838,196,666,692,25,570,411,1321,236,409,1757,842,242,240,240,429,895,636,1161,409,233,374,485,405,919,360,820,498,632,572,1056,439,72,507,516,472,363,938,1129,542,454,422,1661,459,624,277,238,652,294,1286,1478,136,1293,1568,480,146,663,1216,362,480,169,307,135,741,1961,803,263,665,334,1043,101,277,887,852,1536,1052,431,808,174,365,495,362,468,467,1404,154,1764,35,375,1626,970,785,448,153,1158,257,1691,126,958,1287,736,202,200,1904,768,1398,290,375,1165,1137,736,370,519,444,525,732,628,1777,1733,1002,1072,200,749,139,979,431,527,749,746,636,117,364,1523,730,696,1267,186,691,720,316,455,574,566,660,389,709,109,295,1310,1171,246,531,105,761,397,288,332,353,60,213,436,389,1047,747,535,527,136,230,525,815,1311,1445,297,574,360,989,1912,213,460,1011,281,1045,432,1518,270,761,435,182,408,563,283,234,944,165,73,543,1821,308,109,284,1098,1526,235,228,245,914,835,566,311,305,580,301,122,447,539,205,522,1426,842,793,172,447,1456,117,523,740,1204,1090,130,1864,1280,862,630,485,274,272,515,1127,1354,366,711,418,615,746,404,88,1321,1393,936,231,277,119,477,566,1184,240,523,521,860,316,540,946,152,384,889,443,1083,1697,841,145,377,1776,375,868,992,214,1756,1526,181,1587,262,215,125,124,147,336,489,135,417,250,440,919,487,1118,178,408,335,235,831,818,1255,506,886,277,835,155,533,144,572,687,283,338,972,282,1394,256,1960,392,78,725,835,44,267,574,571,1644,327,1389,422,674,190,425,235,1964,334,676,583,693,1308,1554,821,609,895,480,162,308,788,60,1229,539,446,390,305,529,836,1188,744,768,563,675,1338,1359,1444,555,69,208,1121,410,289,480,299,282,835,756,532,452,807,479,489,215,336,758,363,290,856,577,1531,268,296,735,420,879,451,1058,419,841,1114,433,547,561,222,1097,706,306,1024,709,1126,1025,1005,285,736,842,1470,560,1754,1199,1142,151,130,888,620,286,680,579,873,1262,1337,1075,544,839,106,455,416,151,231,271,1143,312,1091,1721,788,645,931,832,465,524,979,1787,214,82,136,1032,235,229,559,1572,245,1855,341,782,223,237,450,304,564,453,1242,340,1217,325,347,1256,620,1427,345,727,423,682,349,587,1320,717,1265,725,264,555,850,81,989,281,262,264,817,537,672,1751,1056,268,467,616,495,532,1144,219,248,979,1816,943,70,498,260,904,814,786,214,508,164,980,1626,335,101,368,872,701,1156,940,1009,883,424,1766,524,1199,689,254,1326,273,1881,303,320,1016,999,895,311,253,135,1259,296,1428,1381,246,442,391,959,959,1072,1135,804,562,138,587,444,798,925,805,1025,729,789,196,1267,395,242,149,178,161,149,663,285,1153,33,707,486,421,952,80,1195,849,456,343,1978,657,286,1630,759,1601,1633,353,511,613,1675,864,367,457,1028,459,610,1850,255,705,311,325,493,194,85,575,170,309,800,636,609,549,421,1787,891,891,1484,202,383,325,448,1673,1212,704,1345,92,416,341,997,85,1235,1459,933,212,626,555,561,189,502,303,380,729,1390,330,339,1243,802,788,535,535,330,292,727,128,631,183,75,768,416,1037,67,427,183,485,392,874,248,366,417,1679,1697,140,665,120,936,332,889,509,273,530,203,621,1619,140,695,320,657,1137,304,138,290,856,984,835,180,980,257,605,385,1426,973,782,214,405,1224,1637,546,1654,1827,1132,962,176,1073,537,386,497,607,249,714,59,1273,671,343,281,1366,394,518,350,967,1219,212,938,418,252,451,491,360,1631,229,421,156,282,1211,199,523,1779,773,934,182,1346,149,402,86,1440,183,1264,1624,838,1020,395,257,144,734,121,71,463,374,23,637,426,732,256,136,319,230,184,1156,83,228,230,1508,634,342,39,413,821,609,1134,257,306,332,952,282,1063,149,120,409,390,331,414,155,532,553,306,635,308,244,267,60,1124,321,646,571,544,270,1006,716,344,139,488,519,490,1447,897,553,846,267,932,1484,667,496,735,758,719,370,503,1412,33,271,105,159,470,1108,956,795,1441,1104,1243,650,766,1188,127,1659,225,235,351,289,172,611,1559,190,1777,743,1025,63,1287,1002,297,679,309,865,1041,982,754,1552,438,1044,1001,72,1021,1432,698,578,452,560,820,1484,466,1483,995,265,131,1554,1917,400,720,1838,139,675,964,1916,741,709,424,728,594,1880,389,832,317,298,540,175,91,398,111,1146,1104,1634,455,651,258,629,1392,521,1143,103,118,1746,1296,491,557,166,1600,216,537,1811,920,739,220,397,199,573,406,193,872,395,603,671,117,539,1350,571,1045,1075,620,774,437,603,1914,1719,81,498,856,300,1217,23,857,1117,814,692,732,778,1553,110,455,527,330,758,195,1407,434,332,302,685,800,723,694,1216,1171,1289,324,142,1010,701,991,534,798,764,666,1290,143,1731,239,695,417,630,706,568,1555,805,325,606,1161,302,83,465,556,361,1264,299,490,459,282,1519,846,85,194,832,1403,859,124,210,123,802,851,168,429,469,174,300,525,348,802,1756,850,1313,217,219,196,407,1369,1149,405,322,610,1569,1099,417,36,1895,1312,964,1540,662,79,431,260,1297,772,340,234,374,263,370,344,425,278,1094,349,276,1300,538,308,249,550,921,562,216,1011,421,875,1227,434,686,627,306,183,125,80,593,1131,368,121,1697,358,219,316,47,740,120,228,341,683,757,492,71,701,428,89,338,657,935,550,611,665,631,831,960,940,213,388,994,305,914,1637,91,414,419,764,1233,484,125,888,361,165,164,123,371,650,187,501,228,1042,1500,1032,541,438,494,1818,461,328,544,941,1105,641,166,55,269,484,1447,397,1876,672,1129,581,791,345,393,129,679,147,404,1027,379,337,628,728,1217,1562,143,395,1152,218,229,373,419,178,1835,630,134,427,1076,181,84,1146,684,505,1239,74,1228,1250,1020,351,410,1842,1160,96,349,1047,473,327,1280,49,553,481,1182,1162,639,147,207,1407,260,572,567,207,242,529,799,1389,465,590,186,552,261,191,384,296,573,1568,432,890,514,931,61,1133,66,264,1067,95,1668,402,36,223,347,576,1372,1261,723,256,680,290,860,1123,1212,1195,59,143,1137,267,665,386,437,480,1043,244,518,418,401,343,1624,501,1509,231,964,642,100,703,1861,440,132,1189,565,1998,1736,390,451,643,194,1163,1020,63,636,176,209,91,1115,418,646,1126,507,1298,167,344,615,36,63,940,567,146,751,428,1103,661,1068,479,941,995,1775,1869,1270,780,677,1114,427,275,619,347,192,1272,277,661,504,1761,1301,980,365,1074,1163,291,410,1243,555,510,416,101,146,215,1098,260,257,1119,1027,366,184,441,1996,471,509,895,1334,1173,486,256,1017,1464,399,940,186,1173,594,357,532,281,483,879,518,577,856,1140,691,437,947,283,292,1138,428,369,1802,139,1332,559,244,684,658,280,368,939,97,186,1262,357,229,500,103,1309,1343,741,385,198,513,633,1025,943,754,612,865,848,226,505,1547,1548,1626,1657,832,1624,923,459,622,350,452,143,188,678,606,153,1276,799,45,1320,651,319,286,129,507,1674,1186,547,428,763,336,276,606,780,550,197,350,671,146,606,385,761,89,144,785,1828,214,974,122,839,1247,407,166,822,422,263,1132,692,1479,1749,182,316,447,1013,233,430,410,132,190,181,300,1456,1607,753,667,143,1403,878,231,160,69,1443,1334,809,831,212,419,153,114,1261,592,1271,146,509,819,138,1710,1022,669,857,1042,302,329,783,801,624,304,140,1351,303,319,1503,803,499,450,1097,1219,262,586,500,177,527,420,532,817,1451,1774,370,694,1944,517,965,728,1706,1268,689,445,1243,172,208,1304,401,761,416,707,141,223,1840,518,1922,1190,1000,814,1048,788,1813,667,448,1450,160,107,758,537,1811,61,368,595,542,268,77,984,212,565,1804,1137,1012,129,353,230,337,1461,1317,364,675,428,928,176,447,1025,304,1039,302,268,915,942,806,1195,1112,365,1090,520,206,555,1001,221,684,516,582,1948,560,160,465,946,732,245,963,1380,1217,62,920,1010,109,1335,124,1396,597,1186,485,1178,772,1772,823,631,553,1437,514,1147,1880,324,362,1364,721,755,799,689,358,279,538,625,155,607,383,260,875,1025,145,1123,407,878,613,505,328,1024,1648,291,134,1174,320,290,326,649,414,1858,1084,1350,868,599,504,1305,794,463,1492,615,318,489,1395,766,1577,78,123,732,187,1285,114,614,614,137,222,150,525,265,903,1132,1222,951,868,423,49,1061,896,685,756,427,650,1054,1332,502,346,379,1492,310,836,1148,527,1286,253,1261,275,766,173,454,645,1458,591,86,1099,1267,354,574,213,572,362,681,1140,1413,426,516,1749,408,1005,717,644,1190,185,442,542,436,671,1115,507,1304,481,1375,782,1308,1142,413,694,1343,97,272,520,420,1165,1444,1238,921,1085,539,701,178,1302,134,704,922,1782,1091,451,1129,365,1002,382,884,669,681,280,560,315,378,39,482,76,362,453,1242,240,397,772,133,539,617,429,1119,409,689,457,664,644,1021,133,181,1508,523,880,227,1333,1081,906,427,513,263,40,142,219,804,465,493,398,1247,941,480,389,410,273,679,1247,1485,397,588,253,245,370,398,1033,1307,269,398,167,534,270,396,1180,112,787,710,1629,1806,1020,289,151,112,630,1719,123,793,1234,1269,150,1137,1176,926,1670,693,1514,1504,831,184,304,105,278,515,1290,1043,845,891,913,1021,692,618,1638,1616,1764,1290,1474,1366,721,207,222,143,600,147,268,1513,683,344,855,1655,974,263,1693,399,1287,308,943,208,1226,843,37,1164,232,1441,754,982,287,351,145,1017,153,367,509,408,650,1116,1244,144,212,572,252,818,1945,1492,205,756,119,50,417,715,625,296,322,145,727,251,473,1046,461,741,1139,1121,911,916,1139,860,1192,230,1875,300,1014,589,1120,1592,1304,1105,104,506,157,961,1221,1143,218,190,917,330,1129,635,596,432,202,236,125,1197,191,1609,1020,754,652,180,235,309,1053,1823,1299,554,624,758,833,1509,780,312,1208,690,380,1666,451,878,710,1734,652,1112,846,1392,642,252,1882,306,412,810,1140,582,1145,1444,1056,146,1727,617,926,1184,885,1011,703,1393,1330,237,233,760,629,671,1073,537,582,1380,285,784,812,939,453,1452,1406,826,752,526,1626,130,367,837,1029,1309,741,1580,1634,770,977,424,1836,564,542,1516,631,448,738,403,1408,729,315,205,712,789,1048,251,1904,407,609,1019,832,1052,311,265,1643,273,1967,291,78,646,306,1460,1116,461,380,710,225,732,1918,1070,503,1082,704,649,411,517,1296,233,394,46,1444,531,376,1997,1007,644,874,687,1308,1419,578,1249,128,233,970,410,438,547,1381,1919,475,367,1337,1152,161,505,1180,1738,1529,1097,1683,65,266,544,1046,857,91,747,1034,388,317,1270,337,1406,1027,727,1803,609,223,1255,324,269,1020,69,1128,940,1750,882,444,1003,1125,275,624,1230,1362,1190,393,468,962,1046,807,1832,1077,423,1564,471,659,867,707,207,467,1099,708,167,1071,945,904,186,709,209,235,1194,1519,716,138,474,181,665,439,956,575,876,210,849,397,79,1406,161,235,166,311,389,1090,622,1243,746,1057,906,326,1194,1990,1842,353,551,688,746,260,494,298,258,337,576,1754,409,324,1572,582,521,630,1049,1797,209,599,960,1000,1450,268,1118,1191,276,217,617,676,1073,1479,423,732,1073,590,1679,1356,148,506,676,1125,436,352,956,736,285,194,1532,999,145,127,1176,96,1174,1602,199,1256,770,662,1477,1040,1288,636,701,1279,726,539,1116,1598,1810,350,442,397,877,1178,531,611,1327,385,1013,602,438,646,1750,1888,1512,1124,1026,257,435,176,408,197,158,546,518,1468,492,1713,1511,366,938,1749,811,757,538,1582,1849,804,780,243,560,382,1530,504,309,276,1069,1495,1403,1622,650,1457,517,128,951,727,1766,133,859,430,1033,1359,439,936,1994,382,753,459,677,1660,481,864,1207,591,226,824,1395,1055,1909,478,1901,1550,1196,364,478,633,325,818,301,358,1191,295,998,620,1005,300,966,829,1365,379,554,1184,1374,519,795,125,117,387,221,1310,992,362,420,594,867,228,268,1525,1941,765,348,906,648,1805,609,703,909,753,1456,496,300,1408,165,1118,949,1150,289,1322,1085,1264,1018,292,1377,244,192,875,1554,409,1712,450,624,765,661,1374,1142,1019,792,423,1815,1228,1195,928,30,950,961,675,217,310,877,715,103,701,1334,1185,715,942,291,416,232,934,1342,1485,470,1085,1345,784,1711,1482,280,958,259,100,596,1871,673,665,1054,1684,286,616,285,1862,1402,492,880,1216,628,255,1003,342,1243,316,675,1632,1514,607,475,1897,788,1373,1844,151,926,1029,324,547,680,983,647,944,672,1252,1732,359,1382,917,1652,468,424,970,868,950,264,1189,1770,1762,193,536,905,1833,1653,1845,1559,1327,1745,794,471,308,783,879,1496,266,974,824,1667,276,1113,913,1187,385,872,325,1412,316,825,1278,515,128,1234,279,1202,355,446,976,303,1223,1758,564,395,1193,1429,691,1486,950,1593,636,691,1250,272,610,1370,1857,761,1644,991,739,1733,1783,1036,233,1822,1380,1864,871,1055,1652,220,901,628,473,1850,1311,1389,194,1206,779,1592,591,964,1583,207,713,608,509,755,261,570,1954,1025,809,441,1955,1296,1753,1395,1748,836,1051,289,669,275,400,333,1162,866,292,850,348,348,1945,1668,524,707,820,675,797,396,429,960,1422,711,356,554,562,437,1355,373,1062,1457,1119,605,868,1385,933,1048,1701,301,236,1064,827,597,1453,248,617,1507,362,967,1424,1470,972,678,1559,1340,1575,488,876,804,1213,437,536,1320,307,817,1292,306,692,617,1511,1002,560,1496,500,1264,589,323,547,1143,1280,912,979,1480,317,1581,1964,836,823,1555,1060,519,1311,235,954,1638,1147,512,573,1989,1301,1625,1108,1373,724,1601,1982,373,1888,1098,1409,298,420,1948,703,711,305,416,577,1506,726,728,195,934,1473,399,406,1654,315,1000,831,557,1584,207,981,664,83,879,1919,1522,287,836,462,877,1260,1050,1428,466,337,1614,723,869,879,1370,908,1650,1614,336,1902,821,837,954,996,575,94,733,1094,77,241,1563,687,1561,1080,495,919,1086,913,663,1504,247,108,909,304,125,552,846,1465,824,295,1270,830,1518,589,1085,222,1216,817,184,1273,1550,1225,340,1153,644,393,441,1165,1124,1128,449,365,1345,1457,942,87,1803,1771,603,1862,1534,282,1112,634,914,1617,1208,486,964,513,389,874,387,221,388,1761,768,136,317,361,1036,1288,1607,559,1398,1213,1202,792,691,944,1070,603,466,1186,620,1544,404,1062,328,1139,309,910,1964,486,1238,468,1855,777,1431,980,646,1762,1769,1527,597,1004,864,497,406,1150,252,161,1344,1827,1424,574,281,396,1385,897,904,1079,355,886,1711,1379,180,137,1620,429,1681,1021,568,1240,724,1699,1178,1401,1317,1189,1328,714,1445,386,740,1128,1007,827,154,509,1607,539,223,923,1128,1892,1025,371,186,1267,366,1213,282,1114,1423,1046,352,351,1417,259,291,718,182,568,829,177,938,406,523,483,624,471,821,389,1272,34,149,211,883,945,188,878,675,1002,668,1621,1056,136,1581,233,467,348,732,277,758,362,1485,680,232,1094,1165,452,1423,1559,1461,1168,1624,579,432,1608,315,125,94,624,1282,1479,372,200,650,858,267,762,181,1748,989,1021,401,222,36,368,1529,406,1212,1145,358,264,597,1025,507,371,640,362,174,471,726,302,1137,123,497,540,962,297,261,315,371,191,927,394,151,476,149,552,664,932,907,907,843,334,807,1089,561,438,1149,1606,703,355,1325,974,1637,482,287,966,144,925,1496,67,306,512,341,485,633,285,109,1314,1366,1031,366,1215,1921,587,534,1247,1702,847,79,468,864,1501,528,594,511,1248,187,183,1191,950,533,391,1110,239,176,883,331,73,1347,1843,1500,272,697,1452,1576,1452,1009,779,150,585,837,475,547,1784,100,1287,103,310,222,403,309,1450,1142,603,864,293,537,807,1033,770,445,111,1096,1010,562,1918,236,157,222,65,1320,452,1095,402,1399,1107,157,1049,1023,362,1365,1777,610,315,907,678,735,438,193,383,350,889,340,756,637,316,150,489,613,515,1562,655,98,1240,208,602,175,1386,708,459,596,315,384,725,393,276,356,1120,298,84,1248,158,207,1892,387,1258,595,800,361,996,881,1963,57,210,196,540,608,81,1284,945,156,250,336,402,934,1450,1468,394,1061,525,1169,876,1021,320,922,369,1110,756,297,517,466,226,758,583,552,919,441,1514,263,729,771,397,380,1979,1863,1799,192,475,402,1467,563,274,1801,1427,210,142,218,732,42,1868,546,559,1156,924,440,1299,612,755,730,548,712,821,347,482,840,415,660,1003,922,540,369,673,593,589,576,455,248,579,831,146,1660,699,977,192,370,194,166,410,1226,376,365,960,653,1771,1490,421,296,249,376,243,1406,530,518,577,137,458,1643,1812,1583,540,63,1620,749,162,1384,612,1154,1037,507,1496,858,118,1096,438,1001,980,268,1724,146,227,1193,753,919,1129,673,698,653,1544,1733,213,900,1221,168,139,1144,309,1935,647,901,390,883,136,419,783,159,1402,689,504,71,454,499,1451,328,684,1044,697,211,1035,112,849,935,351,269,1904,451,360,783,257,1170,1308,1611,992,681,1566,341,1051,991,570,1685,617,558,864,417,490,959,296,1011,1916,1130,515,317,1719,932,704,1004,226,662,1584,543,488,466,410,1007,760,894,999,553,1959,497,357,111,811,1791,1200,570,664,242,410,170,403,190,1648,1274,254,631,243,1087,770,471,1123,1185,1960,1121,1311,725,226,1069,953,481,405,704,1245,1614,179,183,288,1323,149,1444,863,431,1409,641,488,1995,763,460,265,695,210,921,1999,260,1797,482,380,1634,967,629,705,1132,101,70,1406,511,543,1059,1213,1386,555,161,960,215,1103,342,75,101,174,368,1388,100,418,505,671,839,1095,516,613,1028,717,85,585,612,146,832,325,111,158,296,205,410,550,650,285,458,1702,140,1280,365,294,312,100,834,173,271,762,212,266,728,1085,233,888,238,269,1168,803,301,1277,935,213,939,1315,1500,178,529,950,1165,1413,189,954,1243,1415,665,187,216,619,108,510,321,1407,1879,427,757,250,169,739,229,305,1114,606,979,81,994,1951,672,735,367,1634,364,666,212,526,934,885,1779,778,1164,468,1346,1710,479,405,1355,319,105,349,1394,902,1809,817,282,797,352,454,607,1198,1192,223,1684,1075,629,1042,778,780,908,681,1421,782,350,481,416,1761,509,776,241,560,662,396,748,144,368,1833,267,1051,254,710,764,1102,214,347,450,176,49,613,455,837,1169,637,1024,548,812,358,1322,1398,803,962,1412,342,366,358,757,1728,1763,683,603,1844,503,601,149,1246,673,1629,431,1323,1596,1847,237,267,214,510],\"xaxis\":\"x\",\"y\":[24,196,123,29,66,52,39,184,42,71,145,99,51,9,173,27,82,35,77,98,96,93,44,195,1,62,33,68,110,15,96,58,98,70,43,194,23,1,54,3,32,31,130,34,119,13,63,9,43,16,149,51,76,159,75,114,165,155,16,78,57,80,33,34,80,64,51,105,81,108,101,32,38,140,42,87,19,26,148,15,144,79,117,192,141,24,47,27,11,21,39,44,38,46,89,87,194,15,40,15,16,20,45,51,12,6,98,88,58,102,12,55,52,32,59,39,83,20,71,30,30,26,176,38,112,43,57,65,57,15,44,64,49,63,39,90,62,48,116,85,42,46,78,127,115,91,27,35,124,78,76,83,196,48,40,147,39,103,39,21,27,18,17,157,105,137,62,41,36,12,29,117,36,70,43,27,156,75,90,56,44,32,85,46,51,18,35,20,40,57,51,67,195,179,46,168,113,89,79,27,55,78,32,56,58,50,25,67,8,33,14,43,71,24,11,176,43,42,40,61,71,84,29,45,50,26,183,12,28,26,74,83,69,120,62,55,14,54,51,21,44,39,30,72,43,48,55,68,103,24,90,41,17,19,86,13,15,187,127,44,34,7,68,46,114,81,56,34,198,34,137,29,51,83,169,159,27,74,25,80,87,22,18,42,56,16,4,10,11,106,68,40,4,157,27,89,155,199,150,101,109,163,62,94,26,110,163,91,88,126,50,86,78,22,6,69,2,15,28,25,27,17,56,88,89,69,5,137,27,45,62,28,66,79,64,34,110,156,92,78,98,52,44,120,72,55,52,157,60,78,96,56,85,47,74,6,181,59,178,87,123,72,17,8,65,77,138,175,28,62,53,10,63,109,111,69,42,83,32,50,26,36,23,40,4,196,50,25,170,25,39,61,154,9,9,35,65,15,55,30,196,186,44,7,67,38,93,182,42,44,33,61,44,89,47,76,37,113,63,3,34,23,42,74,67,22,58,90,12,59,6,168,13,70,62,3,41,29,22,15,56,13,11,62,130,41,75,14,87,85,66,61,82,90,198,43,41,49,14,30,22,162,8,63,49,38,13,29,51,3,124,199,15,57,105,19,88,106,27,38,32,49,20,69,11,71,31,29,13,19,103,118,18,63,51,55,67,38,14,151,36,17,41,53,33,77,54,117,33,62,24,134,167,62,84,86,68,104,3,118,95,32,35,129,11,39,2,193,9,85,158,17,33,10,57,166,80,30,32,27,79,24,24,4,58,84,33,6,150,127,7,21,21,50,31,89,46,54,49,142,154,124,112,33,57,164,165,11,142,24,54,44,138,140,10,55,76,46,83,58,140,86,51,153,60,89,165,13,83,146,54,118,197,124,94,16,16,110,58,12,3,114,72,104,52,76,123,180,97,191,53,87,141,87,191,176,97,126,30,176,171,153,101,61,66,14,36,42,149,59,60,196,164,26,24,105,64,160,56,2,197,187,33,172,40,190,46,26,82,154,45,27,71,185,74,62,195,55,4,54,139,158,66,29,121,94,22,35,82,158,33,124,145,55,112,42,16,172,72,55,32,111,16,54,31,98,23,143,60,154,61,104,22,80,43,99,164,83,88,40,52,44,52,183,85,180,21,51,68,8,167,174,84,197,70,141,155,182,72,160,166,142,119,15,132,152,175,184,176,177,34,195,87,192,72,132,181,71,74,190,145,127,137,27,89,102,42,177,49,156,70,197,136,133,178,47,89,84,177,129,190,141,12,86,173,137,165,97,146,163,100,155,107,195,36,79,120,54,132,81,157,99,73,115,117,45,70,14,40,193,174,61,61,102,175,63,121,106,60,98,141,113,86,97,41,71,135,22,174,118,110,190,178,57,61,61,103,126,79,46,35,109,188,126,121,88,151,92,104,127,44,140,56,189,122,61,65,116,190,186,76,58,19,119,15,92,147,49,89,78,159,113,73,26,54,41,42,37,68,145,66,57,33,192,194,186,77,159,133,184,197,137,158,84,67,28,132,11,120,92,57,52,144,116,35,129,36,61,24,58,111,139,40,186,170,154,27,53,143,116,82,101,59,125,120,96,44,50,111,49,24,24,77,153,166,73,60,111,93,186,38,110,66,132,102,11,64,115,127,15,72,53,36,124,64,122,59,158,53,135,9,12,42,142,43,144,183,149,172,48,166,20,183,85,114,141,177,52,135,117,113,32,48,49,107,73,149,60,51,82,40,128,98,180,79,19,170,26,87,17,125,141,16,140,173,123,177,80,55,77,109,109,108,39,61,94,135,199,78,130,112,61,148,49,190,45,60,64,78,135,43,195,72,68,35,62,149,127,42,70,17,73,17,16,37,36,123,30,7,61,100,113,82,11,168,75,83,52,171,80,190,95,196,117,65,166,107,82,85,193,169,51,45,75,18,82,62,17,13,64,49,38,34,89,26,64,17,16,27,30,111,76,48,63,61,37,73,83,121,96,47,82,21,69,88,29,8,52,39,181,59,25,7,60,151,172,136,58,17,92,111,129,125,97,49,13,16,68,25,12,172,127,68,5,112,28,15,9,49,12,85,28,49,102,72,121,128,75,23,83,85,96,60,42,46,47,54,21,39,73,44,78,84,57,53,42,94,167,29,24,85,123,39,122,152,60,54,102,51,24,61,117,53,31,20,60,74,48,97,63,45,58,66,15,31,17,78,17,4,106,56,72,113,64,43,110,28,69,55,53,83,19,47,22,63,130,65,39,76,57,75,37,29,71,58,40,111,33,150,76,73,130,122,68,42,50,19,141,70,42,33,31,59,17,72,45,39,75,48,19,31,58,30,26,24,46,27,74,32,83,159,14,67,88,41,44,40,34,124,120,88,59,24,21,71,57,30,74,47,35,98,17,80,28,36,29,48,47,97,58,20,17,67,19,10,20,18,114,103,47,21,108,38,15,23,32,42,19,66,33,44,29,39,49,13,62,11,191,47,11,14,26,37,28,29,58,94,20,17,32,30,14,16,6,19,52,73,34,55,45,28,103,165,147,174,148,82,49,4,14,19,27,9,47,126,6,26,32,35,7,21,22,39,33,36,44,38,5,17,25,150,89,31,5,57,30,8,9,42,12,29,36,40,25,13,56,34,100,14,28,85,35,20,13,11,41,35,23,59,32,13,13,32,42,11,16,5,12,30,27,11,99,22,21,14,10,37,61,28,85,133,89,79,167,41,65,34,40,106,113,66,161,91,29,71,90,68,90,31,21,161,37,115,160,18,193,52,31,46,149,118,146,63,125,41,84,172,81,199,138,59,25,60,84,146,48,175,99,34,85,113,28,159,41,94,52,129,79,7,32,137,33,186,140,44,182,105,25,92,35,113,39,166,117,190,155,28,31,162,44,30,25,46,72,169,114,199,119,41,191,127,63,101,65,121,29,110,23,46,51,45,79,82,33,76,146,24,136,9,37,87,67,93,113,66,68,99,69,56,184,28,52,62,6,36,76,68,68,136,51,21,60,59,72,170,67,40,70,183,31,154,148,107,14,10,147,178,50,87,180,64,70,43,45,95,83,56,84,111,39,87,52,133,161,32,74,107,112,36,87,50,120,48,47,98,155,50,126,101,44,25,81,94,46,74,33,24,48,4,58,149,149,95,98,40,41,97,109,41,27,30,26,33,29,91,14,18,99,11,27,79,24,47,87,128,21,47,116,127,88,62,62,158,40,82,75,145,173,92,55,69,163,36,47,150,51,27,111,27,184,175,11,83,73,80,132,49,26,58,56,7,31,27,13,124,40,164,69,100,45,77,115,10,78,167,18,42,76,54,16,131,32,40,73,48,184,42,110,50,28,61,6,39,36,44,36,93,39,54,73,4,30,15,25,23,7,136,53,29,45,51,106,40,49,83,41,52,59,68,116,192,43,121,43,29,26,117,69,44,27,40,51,32,74,98,37,18,105,43,182,45,150,6,20,85,26,65,77,112,166,94,194,62,37,72,50,67,11,188,30,152,28,86,163,70,16,76,55,129,13,80,70,13,72,44,41,111,22,89,85,39,108,21,35,73,151,18,27,64,14,12,15,8,10,19,12,139,11,82,138,21,65,112,83,48,18,12,33,33,60,36,71,60,14,73,75,132,172,35,126,112,35,31,28,95,65,46,10,9,49,48,25,8,58,24,29,35,16,27,23,16,53,54,24,63,50,17,46,30,24,50,15,10,15,40,16,48,8,37,45,32,9,20,17,15,27,41,39,6,44,39,43,44,33,36,39,52,83,90,32,62,125,24,118,84,195,108,16,40,17,57,119,29,22,44,55,36,37,10,34,46,62,48,2,8,17,2,12,2,29,8,6,12,15,18,15,8,4,2,5,19,29,21,50,25,176,103,19,42,71,102,74,62,137,80,71,58,108,34,62,73,68,18,99,19,51,158,107,65,42,7,99,14,23,169,53,88,143,198,27,92,61,37,144,32,36,28,35,61,46,98,37,19,44,13,45,102,142,71,28,148,164,17,62,22,86,65,95,45,133,172,51,32,55,17,113,25,42,83,74,42,96,84,75,49,27,52,43,16,37,21,34,35,64,42,164,17,127,49,170,33,67,10,27,72,80,73,52,78,62,90,29,13,25,42,45,46,40,145,69,23,18,52,42,77,89,160,36,159,35,134,10,24,16,56,22,30,72,49,9,54,27,182,194,109,117,8,51,47,26,39,19,38,38,38,116,11,85,35,90,41,146,92,163,57,32,11,18,89,31,21,140,175,19,115,67,183,42,18,61,113,48,57,55,46,56,31,24,43,43,116,168,81,26,180,46,87,52,107,118,53,33,83,41,121,61,67,20,45,113,60,36,105,170,49,17,113,40,110,55,156,34,57,82,15,39,36,34,117,49,59,73,145,156,97,145,137,80,22,62,31,47,67,78,104,41,112,122,159,119,76,114,54,138,177,143,40,15,158,59,95,67,97,36,42,131,24,18,105,47,86,34,24,25,77,95,28,41,45,169,125,53,149,89,96,184,73,39,147,72,113,113,75,34,54,6,19,33,76,31,83,20,148,136,47,78,100,35,99,78,6,25,23,156,56,162,105,50,46,91,112,156,163,94,8,86,44,31,44,94,66,43,136,67,148,113,185,19,59,75,180,70,146,35,42,12,121,122,77,183,47,32,123,102,178,126,48,38,22,129,116,183,43,105,174,81,121,38,31,54,43,63,62,13,167,71,34,92,83,19,71,66,40,67,75,124,26,25,21,83,137,62,11,62,70,175,86,109,7,32,59,34,51,14,156,50,121,98,66,43,109,163,59,46,17,62,110,25,97,122,33,57,138,160,77,36,108,28,32,65,123,139,118,115,70,153,113,55,62,62,69,94,45,114,133,49,10,163,192,65,52,98,67,43,100,152,194,129,57,43,52,117,22,18,74,192,64,36,116,27,60,107,67,161,47,169,67,21,117,91,171,47,74,69,127,11,160,179,97,61,103,73,14,164,52,60,115,161,161,120,69,30,53,120,107,99,31,39,70,18,25,126,13,105,38,100,33,36,194,23,12,104,44,65,184,83,107,57,89,83,14,167,170,118,41,52,67,114,60,28,130,63,79,77,122,62,55,99,45,52,76,35,44,12,8,48,113,9,23,30,68,112,50,61,172,32,77,45,96,51,65,59,37,75,86,22,34,157,171,80,83,195,32,38,55,36,152,92,67,157,144,199,39,50,56,8,23,42,95,79,60,111,44,91,64,24,186,35,95,37,22,178,105,95,66,41,123,20,44,180,10,50,81,39,34,22,127,96,177,166,42,36,178,199,54,176,102,76,72,35,90,41,97,39,40,100,173,66,63,56,66,103,76,69,110,140,160,81,81,54,70,44,119,64,51,36,88,87,8,128,42,132,117,48,87,11,27,42,43,58,62,70,26,10,117,55,123,175,136,112,39,68,103,73,29,161,65,35,130,24,28,69,51,92,113,56,14,64,120,63,54,114,157,92,69,49,79,11,68,22,55,77,55,152,14,65,12,54,100,53,59,25,10,151,5,40,24,147,71,127,142,78,132,136,71,85,7,70,40,23,70,153,91,45,60,70,71,68,100,37,108,62,40,188,69,64,52,47,117,17,128,48,96,23,122,22,53,106,155,39,41,69,146,17,81,100,106,85,84,163,72,166,49,49,16,190,100,54,79,87,123,23,72,48,47,20,75,65,163,185,124,114,47,98,56,91,65,83,185,141,14,184,133,163,84,53,45,155,70,52,11,63,88,91,50,18,45,48,196,155,36,39,59,34,163,129,144,104,44,113,20,33,67,73,77,71,8,60,37,32,149,164,79,31,168,34,47,180,111,59,22,20,165,156,88,149,165,35,31,79,47,68,168,104,70,87,36,20,33,48,19,25,80,78,23,36,143,65,76,59,31,95,102,43,38,16,130,44,93,33,47,49,45,190,122,77,120,50,66,191,35,127,37,97,48,181,177,167,45,144,88,102,77,40,47,37,38,44,36,41,64,51,80,71,22,95,26,46,20,33,63,59,88,70,88,38,117,66,30,81,150,28,71,63,70,77,19,198,43,32,140,22,64,18,161,66,111,49,41,83,25,68,26,51,73,151,28,23,151,50,21,33,34,74,21,129,37,47,39,37,138,81,16,152,68,90,65,99,28,51,38,48,47,40,29,155,32,38,114,117,81,163,86,36,119,103,114,34,105,47,50,124,106,153,142,27,164,65,30,49,16,96,96,61,107,139,99,0,29,191,53,15,131,35,93,46,136,66,117,68,72,134,88,20,179,86,111,13,60,21,37,126,180,6,17,55,36,55,60,41,92,78,136,60,111,60,115,47,57,99,101,126,25,7,36,65,78,44,55,56,56,184,29,36,43,54,72,19,169,15,79,129,35,74,26,108,45,11,27,57,40,79,61,46,193,59,115,170,38,54,45,151,13,56,29,26,43,23,154,17,193,161,127,195,170,32,58,129,37,12,30,71,18,17,180,48,66,44,11,20,138,87,117,68,59,140,95,19,23,105,28,64,34,21,49,38,88,43,0,114,43,138,115,6,127,38,153,56,78,54,182,116,181,1,39,36,121,18,156,32,51,50,17,57,27,142,24,16,6,27,25,137,92,183,46,81,135,42,104,63,21,85,60,41,35,19,26,63,126,15,97,74,28,63,46,46,75,73,52,119,101,24,93,128,93,109,7,57,24,38,97,160,55,13,81,16,27,137,10,48,116,61,79,178,133,115,97,80,28,147,158,48,5,23,70,17,9,43,61,100,187,86,88,42,43,10,99,108,48,75,19,69,44,38,171,25,68,29,19,33,50,144,63,27,42,119,108,63,47,74,46,35,7,121,25,46,46,65,46,22,98,35,155,23,101,83,88,22,36,76,29,7,24,25,81,28,136,130,28,45,25,188,52,82,102,46,118,52,106,146,25,158,22,136,174,96,190,186,5,151,9,5,132,51,32,49,57,107,34,96,88,37,29,48,19,25,50,14,59,172,37,45,107,12,133,97,48,68,55,166,54,95,19,20,82,65,64,60,58,95,29,180,126,62,144,89,117,46,98,36,27,35,98,32,31,68,164,11,99,153,103,139,42,55,90,87,45,23,4,35,155,55,36,4,88,172,108,50,68,119,29,19,28,54,28,87,90,112,4,185,46,7,20,11,33,12,51,45,18,108,95,126,9,68,163,51,30,23,66,194,99,154,117,188,38,113,42,40,22,80,188,98,151,70,87,55,192,135,21,189,5,66,64,78,11,58,38,40,134,76,98,54,101,44,184,104,115,6,105,17,69,27,53,28,54,183,177,86,138,84,21,48,7,46,86,91,7,21,13,50,98,55,159,27,28,165,24,39,21,170,23,13,60,46,28,141,32,22,17,79,129,29,40,26,65,75,100,29,60,11,30,22,131,59,152,19,78,22,56,14,21,59,173,56,101,149,29,28,175,34,22,168,34,70,103,6,188,7,150,37,62,118,75,6,38,37,104,67,35,99,9,92,16,173,56,124,45,58,77,49,9,89,38,96,12,9,44,64,105,174,32,70,102,23,156,36,35,13,69,133,67,136,110,47,52,25,29,19,62,51,105,164,70,155,5,23,33,24,63,138,73,36,62,87,142,16,160,30,54,69,62,34,37,17,15,35,61,28,106,114,145,53,28,5,38,23,96,132,109,15,133,44,85,86,9,38,66,68,30,90,111,62,51,37,50,126,82,37,19,161,68,132,34,21,18,80,45,143,149,36,155,121,51,123,96,149,128,78,71,30,19,105,35,135,91,93,132,18,86,10,32,135,44,82,27,83,78,145,69,33,64,34,14,59,14,50,113,46,16,115,29,32,83,196,135,63,36,185,35,87,57,66,126,21,56,77,85,27,16,15,34,44,110,95,27,72,20,19,67,56,74,31,160,126,79,52,78,7,83,145,7,37,63,7,114,90,125,87,38,74,65,33,81,55,20,80,67,80,149,111,67,10,47,109,38,71,16,41,112,103,157,10,167,125,67,142,116,92,111,50,176,81,117,31,27,124,33,123,191,80,14,19,191,87,174,62,25,150,88,41,53,82,192,121,71,22,187,79,118,25,97,48,61,53,33,40,41,10,144,25,22,7,54,57,13,91,100,56,155,29,38,30,161,53,51,36,90,61,65,18,23,121,114,32,82,55,19,98,134,82,112,193,78,176,46,68,42,115,30,32,154,31,32,100,31,99,38,64,39,73,155,57,177,14,68,27,162,72,48,70,30,44,19,8,30,30,197,106,162,30,47,48,49,42,36,14,65,48,30,77,63,23,165,16,7,49,80,47,37,90,96,44,13,66,32,23,71,15,40,44,11,60,100,36,167,29,17,64,105,30,70,35,33,70,135,55,60,38,184,54,36,168,55,75,24,39,53,54,44,36,0,38,119,166,150,49,91,38,40,168,38,15,124,93,124,143,72,21,57,34,51,95,34,37,55,40,57,83,45,56,7,51,23,6,10,28,174,48,18,35,53,56,17,99,147,143,46,81,11,10,100,86,34,181,63,71,17,52,63,6,24,196,83,4,36,46,7,129,75,24,80,65,41,7,13,31,47,10,28,159,35,59,161,38,82,29,91,160,36,63,64,123,37,100,105,68,36,34,69,45,22,90,71,15,83,59,54,99,115,106,158,37,27,77,91,84,69,54,70,72,69,89,36,21,24,4,65,31,9,37,14,35,35,21,45,20,41,58,49,61,37,32,39,29,149,24,114,61,128,76,135,123,94,26,27,122,13,190,178,116,27,198,192,2,50,49,46,87,108,118,88,167,89,103,42,178,183,30,140,136,117,162,68,115,30,92,112,44,52,66,106,110,43,55,162,90,29,62,113,66,39,127,71,66,57,31,59,40,36,42,20,48,14,184,58,191,111,61,81,117,18,171,108,13,100,45,118,106,84,84,12,80,129,199,104,79,17,48,40,193,90,127,165,21,125,22,78,43,48,59,42,55,100,147,76,122,119,27,27,160,75,46,73,171,177,15,26,150,44,19,42,194,41,40,181,73,87,139,95,111,164,58,95,30,23,55,71,122,65,58,49,53,173,32,38,27,24,24,31,20,4,56,12,39,26,149,27,89,92,14,191,18,128,52,36,109,68,170,33,20,131,74,43,105,74,59,37,92,128,22,72,62,69,40,185,190,101,38,65,172,71,29,190,167,114,44,131,98,118,85,66,166,68,57,102,83,72,63,54,59,39,52,53,165,34,64,38,30,78,52,95,155,45,36,41,78,15,89,136,30,161,42,46,5,48,15,42,15,92,47,61,23,30,12,11,197,160,72,41,9,26,60,147,56,53,12,22,4,84,159,79,70,41,104,73,68,51,34,2,177,93,43,108,81,132,120,182,190,15,198,72,26,153,57,30,115,35,45,112,80,29,60,12,83,21,115,65,34,14,47,89,103,53,32,54,30,36,15,78,121,140,90,173,31,44,9,42,82,52,108,6,151,128,31,33,139,32,40,112,46,174,64,52,85,11,34,35,107,52,32,4,17,34,51,50,79,64,125,40,31,50,76,29,64,20,34,189,80,179,150,49,183,66,169,7,195,90,172,26,86,156,146,183,134,22,88,127,45,3,71,157,34,99,185,33,191,162,102,137,152,112,37,119,134,191,167,51,173,179,189,190,179,180,9,23,58,118,180,181,163,21,45,100,164,113,61,105,127,79,105,23,183,199,26,29,192,194,83,129,110,72,183,93,163,187,174,40,125,183,115,186,20,188,193,28,85,143,199,187,77,184,28,166,166,192,193,140,82,11,122,79,61,42,82,93,100,17,116,100,28,65,74,144,133,183,197,90,11,35,16,132,84,194,32,177,199,128,7,154,133,191,55,22,38,154,94,4,100,126,48,197,124,12,113,198,50,199,39,50,96,83,76,22,55,167,18,165,12,59,51,12,181,181,81,53,6,24,17,25,52,193,84,57,19,82,45,52,89,165,172,59,49,110,144,102,138,8,8,23,187,4,35,108,32,56,145,9,20,146,22,29,74,145,93,76,90,32,107,178,149,138,37,61,195,156,41,87,4,92,122,84,22,108,41,145,155,49,16,98,105,198,35,30,59,52,51,55,109,66,164,37,34,65,54,8,46,15,194,134,26,48,197,25,107,76,18,31,59,183,20,188,78,39,81,34,69,35,163,52,91,120,56,111,24,66,116,35,109,141,44,22,33,164,80,65,11,194,84,116,106,45,103,71,126,39,68,88,180,47,112,128,16,15,71,164,137,53,199,86,57,141,33,142,44,27,23,5,24,63,37,74,132,73,141,7,51,58,96,32,15,85,74,29,31,12,81,128,35,71,153,51,23,43,29,89,83,129,58,52,18,41,137,188,12,19,101,20,50,77,77,37,59,150,164,40,102,26,68,158,59,12,28,54,170,194,96,47,59,72,34,53,37,23,32,66,18,164,10,112,164,51,27,74,113,148,91,102,25,3,40,123,175,47,114,72,31,69,45,131,24,34,64,101,60,50,88,169,130,91,103,23,35,22,33,18,18,38,54,21,30,132,52,10,83,26,99,170,81,33,150,113,69,104,71,108,6,67,151,147,96,7,80,147,68,127,14,115,181,3,15,36,160,75,15,146,12,11,176,21,22,100,28,152,42,27,47,26,155,110,156,190,67,95,22,159,64,23,197,53,24,60,35,23,29,199,132,47,54,36,47,44,184,5,12,48,50,154,108,17,32,115,33,15,119,31,53,31,17,42,3,120,106,118,167,33,21,185,96,45,50,59,137,4,129,42,138,21,14,92,10,32,73,130,143,194,40,13,20,186,10,73,164,61,111,53,11,199,79,49,10,58,70,182,181,148,34,189,19,117,13,11,47,44,32,99,150,101,70,54,46,133,65,20,79,22,89,122,144,138,163,147,29,179,23,62,65,168,36,94,22,144,175,42,49,184,24,70,98,70,55,149,26,77,137,12,78,107,157,43,10,16,146,37,64,112,28,4,187,35,81,80,105,106,97,78,19,55,193,142,124,3,49,56,69,22,32,72,14,114,79,135,27,59,48,89,27,134,21,22,89,105,12,61,167,39,29,16,113,23,8,17,30,50,56,7,52,9,197,67,115,68,136,128,87,32,58,87,20,80,97,84,56,18,176,59,17,91,43,13,116,36,69,18,23,105,127,17,87,64,34,16,17,28,5,52,94,20,24,118,44,36,87,55,36,89,35,133,88,115,137,87,20,73,52,70,36,101,129,40,21,84,24,37,59,41,30,69,192,47,198,94,95,38,87,20,102,20,47,88,142,71,98,191,77,24,47,128,80,80,32,89,139,33,28,192,60,43,95,68,112,4,12,69,55,23,49,57,58,32,122,142,52,25,68,33,88,66,97,85,21,35,47,36,36,27,16,41,35,39,45,30,25,69,26,128,136,93,138,76,30,131,68,64,36,12,112,40,108,18,10,73,50,80,112,118,82,72,21,72,76,29,140,91,68,16,76,173,33,80,45,47,59,47,152,170,125,71,42,155,90,103,39,93,38,17,74,36,52,167,26,84,41,133,146,26,22,47,103,38,120,35,122,24,24,137,86,75,62,70,51,124,88,123,25,105,22,114,86,33,90,43,159,22,29,84,105,40,146,43,63,136,70,88,18,59,34,57,26,67,167,162,122,12,34,77,11,23,56,96,54,56,26,21,37,55,55,53,139,30,55,70,134,27,59,34,186,79,51,31,9,26,124,97,85,26,49,30,89,73,19,85,36,59,112,85,137,115,11,32,57,81,20,71,62,68,44,14,65,60,187,74,183,182,29,46,10,97,100,108,50,59,23,100,43,192,53,93,60,154,10,104,122,181,27,15,54,40,47,57,37,37,38,18,76,30,77,98,85,83,151,34,58,45,28,25,172,84,98,171,175,52,13,133,39,24,50,26,86,110,13,126,33,162,28,9,98,32,124,125,85,79,38,48,150,7,26,88,114,45,99,170,72,31,45,27,71,57,121,107,40,24,58,45,5,77,25,135,15,52,177,183,40,39,27,80,69,92,97,57,58,116,77,127,70,10,80,61,57,28,126,63,12,74,188,42,23,103,45,79,133,22,33,29,50,136,110,18,48,60,39,24,57,9,54,100,22,39,11,21,26,37,8,76,50,46,34,90,5,25,110,96,109,53,20,37,17,25,11,47,90,77,13,1,111,98,166,43,5,161,37,50,76,23,26,61,91,136,117,92,87,145,13,31,24,26,33,33,6,109,89,37,83,101,195,140,9,46,17,73,50,50,56,58,139,32,40,16,12,17,107,16,82,53,82,38,37,62,47,30,31,68,49,66,97,115,187,19,26,84,108,151,100,32,148,20,53,82,18,73,111,47,83,53,95,54,149,49,46,74,37,26,96,83,14,10,33,152,47,6,65,50,84,8,41,48,71,45,68,46,101,105,20,25,35,41,81,62,132,96,37,23,33,30,22,31,39,80,38,52,171,148,95,135,14,8,12,123,25,76,47,55,25,151,144,28,6,70,41,33,30,13,28,93,108,33,12,59,35,62,82,189,137,10,54,23,59,50,27,25,50,21,36,27,11,59,42,115,22,39,162,39,50,3,20,38,30,39,34,56,21,132,75,178,14,14,64,54,29,188,86,29,53,190,40,20,9,55,10,26,42,39,80,53,40,93,16,47,42,10,43,47,12,46,31,40,5,53,143,66,24,33,130,28,31,17,108,82,58,71,70,132,193,145,128,25,98,155,16,114,23,38,30,41,79,32,35,46,171,74,113,120,57,46,38,4,23,65,51,10,123,26,77,32,83,95,34,66,87,45,21,70,53,52,81,104,94,49,30,57,139,145,165,48,44,57,120,68,91,79,117,21,86,26,85,67,57,106,124,141,73,135,58,170,31,186,124,123,49,24,86,38,26,32,175,65,59,50,37,52,43,19,33,31,11,32,90,129,39,111,164,11,95,123,152,49,72,123,116,61,19,18,129,15,19,105,125,8,120,82,126,66,79,56,24,57,61,189,40,22,12,41,92,124,48,55,50,69,113,22,168,50,30,84,35,17,50,101,37,76,32,35,33,107,66,31,19,50,35,42,98,70,111,117,14,99,107,128,21,17,127,27,145,128,70,30,47,16,88,155,71,5,39,90,85,198,128,51,42,126,52,155,170,193,61,47,90,114,36,47,59,109,130,45,70,9,168,42,52,80,60,69,31,127,74,174,52,83,59,29,41,37,59,170,85,109,78,88,5,126,83,25,32,23,39,50,60,38,88,18,69,32,65,41,5,64,143,45,43,156,137,38,130,95,29,36,70,73,154,30,186,20,21,13,28,101,41,45,189,23,55,25,11,18,60,15,35,23,34,67,30,55,39,26,67,33,76,41,34,78,64,92,74,82,35,63,35,89,24,135,178,92,131,72,94,74,54,46,63,55,170,144,31,12,80,77,179,42,73,129,109,13,23,16,51,13,130,31,62,7,26,22,98,28,72,14,25,72,93,54,35,26,30,130,103,59,25,60,121,4,64,32,25,115,30,63,123,21,26,31,114,64,81,29,76,13,192,82,153,49,23,48,69,180,94,69,80,158,25,85,21,84,61,43,110,63,102,142,6,41,91,71,39,106,26,160,38,159,82,42,89,152,40,66,27,10,11,92,77,51,33,100,37,156,122,28,150,34,58,18,97,11,33,40,47,32,150,112,50,47,25,90,30,21,36,18,2,73,98,159,40,23,8,21,17,93,26,21,37,92,191,43,7,160,32,88,28,14,80,63,60,84,171,53,30,31,60,26,91,30,154,26,17,10,40,51,56,20,179,26,24,41,56,45,57,79,20,35,48,40,41,104,40,173,76,29,39,73,74,64,41,89,92,24,75,101,22,78,29,33,72,156,98,71,33,80,81,142,100,26,15,71,15,30,51,24,14,96,69,16,130,15,59,18,118,45,31,53,41,79,34,74,25,107,24,55,97,15,71,65,168,47,37,67,145,111,14,77,71,52,75,32,51,30,12,54,19,85,98,95,97,43,18,48,40,61,57,87,16,37,58,32,12,4,36,80,65,38,57,35,48,50,139,26,193,18,29,122,107,97,98,27,109,54,61,31,186,146,73,47,39,84,35,30,134,57,136,109,21,49,116,106,44,41,166,61,69,59,104,53,16,32,62,25,161,8,74,140,128,37,38,56,95,26,37,52,28,74,37,82,31,51,15,100,42,54,88,107,147,73,57,23,65,34,63,103,128,21,83,40,30,35,33,89,70,18,63,158,32,77,25,60,57,15,22,111,93,51,60,74,91,68,67,98,190,11,16,31,124,106,29,16,44,120,102,25,43,52,21,129,18,103,94,38,172,115,72,42,17,61,21,198,20,20,29,31,59,93,5,86,46,29,68,57,9,44,16,88,115,23,58,62,15,15,8,25,86,15,47,14,130,29,82,14,23,196,42,30,193,29,56,84,119,115,17,37,40,31,19,58,82,73,33,79,49,18,37,15,22,18,10,21,134,42,142,14,110,78,5,27,142,167,62,46,62,32,137,17,73,54,93,114,58,92,123,43,46,33,41,37,23,10,63,29,18,21,97,16,111,32,37,19,86,164,71,162,62,48,149,23,56,116,37,60,51,34,12,21,56,128,31,75,84,40,61,51,26,43,36,50,24,110,59,73,12,93,95,73,92,10,20,34,7,42,52,42,18,100,5,53,40,21,22,17,136,101,32,105,31,8,89,61,38,71,39,27,19,6,144,49,9,78,6,27,42,44,111,37,6,25,77,17,196,35,13,26,20,80,137,20,75,57,42,20,17,90,18,95,62,63,100,36,32,5,109,23,29,36,18,178,58,5,35,157,53,42,54,57,9,11,31,102,61,96,37,10,18,93,31,13,41,134,42,63,17,97,85,92,50,194,53,47,25,115,42,19,89,199,85,48,171,18,44,157,74,37,49,23,75,50,18,128,9,19,2,181,21,37,94,33,130,32,51,124,12,30,99,49,56,96,31,44,73,95,46,120,43,32,133,140,68,17,58,43,20,30,16,26,152,35,32,23,85,32,29,97,192,56,76,30,71,44,53,58,24,39,73,78,29,30,141,76,29,78,74,141,47,19,18,78,88,117,26,101,127,49,37,42,85,72,23,82,33,47,42,27,8,12,22,33,24,43,34,45,66,48,1,186,29,186,87,8,8,188,106,28,67,20,52,79,15,37,37,25,82,6,24,6,11,50,43,156,59,53,74,142,35,37,174,114,168,175,108,40,67,117,61,176,9,110,27,48,45,10,32,62,113,5,80,77,14,102,22,32,48,87,34,41,83,107,16,54,71,69,54,33,64,26,54,9,68,12,9,69,161,24,80,28,60,112,19,22,69,85,52,51,67,68,106,40,81,12,38,61,34,22,27,11,58,49,123,49,69,85,25,105,102,20,33,13,148,97,74,114,66,56,24,29,110,85,56,28,20,139,22,54,66,46,38,66,57,40,177,135,110,36,21,18,95,32,96,127,15,23,40,196,15,47,18,37,51,50,33,58,104,138,31,63,130,24,92,83,124,83,34,121,62,32,32,32,37,70,74,131,21,47,143,57,58,30,113,33,186,77,168,65,28,125,38,16,33,64,158,9,73,99,104,199,40,173,30,79,38,187,169,49,48,96,36,66,187,11,102,24,123,51,45,97,21,169,22,117,198,62,71,175,99,84,25,52,52,81,180,42,77,57,37,137,76,21,63,125,81,25,180,159,42,13,57,49,25,59,64,176,67,187,36,59,84,141,16,43,38,128,20,139,109,54,44,42,165,19,127,60,23,43,24,113,42,92,34,69,197,68,36,101,61,189,54,91,29,187,106,31,15,83,51,36,19,113,50,151,34,101,41,16,53,163,105,24,12,71,55,33,113,118,81,32,9,100,55,181,16,61,62,35,35,14,59,37,37,102,114,163,17,88,12,59,87,131,125,49,28,183,153,56,62,18,71,43,59,131,130,117,75,78,80,26,40,56,65,35,166,28,57,67,66,118,62,48,49,123,86,144,95,66,197,25,100,83,84,50,50,117,59,66,74,118,29,108,86,43,187,72,40,24,29,34,28,101,93,97,116,120,118,89,122,123,117,73,87,30,141,105,187,79,101,108,27,174,34,54,19,119,35,91,21,23,8,37,9,42,57,52,36,34,20,36,27,143,72,136,66,184,59,74,48,57,7,16,88,43,44,30,114,140,77,69,87,36,27,39,38,81,54,39,52,70,27,38,36,30,29,56,105,58,48,120,63,28,22,24,7,61,95,62,21,72,117,47,80,38,69,102,101,155,26,35,8,10,58,81,40,38,132,104,24,49,63,65,14,70,9,160,16,50,23,7,86,59,38,89,141,109,172,199,76,48,95,85,71,105,52,66,26,29,43,26,51,42,28,194,67,22,12,50,158,29,194,86,171,41,81,18,66,47,25,23,16,166,15,90,26,28,131,73,73,47,65,160,128,176,81,24,33,41,45,22,96,67,5,87,36,41,64,93,65,57,35,72,98,42,39,48,96,59,104,19,33,36,70,79,136,42,39,27,93,40,25,101,83,30,15,6,150,157,185,29,3,15,79,22,89,90,78,7,37,42,20,62,10,160,86,67,126,37,36,35,54,159,110,143,49,87,98,195,90,52,39,59,40,174,30,73,67,27,103,178,73,32,81,112,11,80,67,86,171,95,149,51,86,26,124,74,46,140,170,36,48,192,163,23,43,187,54,87,103,95,70,77,44,88,187,143,41,142,104,89,73,105,91,17,58,169,82,58,29,33,73,30,63,117,102,28,43,32,121,83,55,21,197,45,65,32,133,122,70,33,190,155,7,28,111,108,34,85,113,64,127,34,54,81,34,24,82,92,18,86,62,109,76,75,34,83,50,106,53,53,51,43,49,12,160,34,74,82,81,86,24,30,116,187,37,36,80,75,135,76,69,66,62,79,39,89,80,50,48,53,51,46,56,56,123,36,28,68,35,35,47,60,128,13,136,92,65,67,30,109,74,134,10,152,40,61,111,12,50,109,99,64,80,123,46,73,106,77,193,27,7,31,37,155,37,187,32,44,37,65,53,100,125,28,13,118,58,30,80,20,54,22,97,58,43,116,9,56,16,90,18,77,62,111,48,39,35,84,23,39,132,52,34,37,76,24,39,34,50,60,92,171,69,98,160,198,43,30,33,174,86,44,16,28,34,130,69,50,43,12,36,55,71,95,47,27,13,76,79,160,66,44,114,61,15,36,124,48,123,114,36,100,120,86,92,17,17,95,55,47,18,46,37,36,26,78,59,21,11,75,29,134,179,31,42,35,51,33,65,57,7,85,155,65,30,186,169,42,41,71,64,150,183,51,79,94,89,78,38,183,137,172,166,56,83,39,27,37,62,137,21,26,72,38,12,39,72,156,78,91,82,53,57,59,143,165,116,171,84,56,63,193,105,163,36,57,116,159,98,45,153,66,52,17,129,67,16,105,26,139,110,56,64,192,37,56,37,128,88,13,37,134,33,51,76,89,133,129,55,175,114,54,73,35,27,41,69,10,20,120,18,122,58,189,41,141,35,37,85,44,36,62,59,42,45,16,71,38,144,70,37,29,30,21,42,36,79,53,11,58,56,79,81,57,83,189,119,46,128,190,47,46,88,95,55,70,159,104,37,45,54,51,77,41,122,191,107,77,34,52,79,139,76,73,187,103,55,62,126,32,37,11,167,65,29,60,34,90,29,21,30,48,85,104,19,71,100,43,74,106,57,97,62,89,40,93,165,64,57,59,29,33,143,97,74,148,41,38,33,61,102,126,126,35,86,108,93,85,27,50,8,72,44,90,48,86,174,84,70,180,28,28,111,44,83,92,61,123,74,29,117,153,31,27,87,73,32,30,150,82,59,82,162,152,142,29,21,125,135,61,53,94,108,113,45,63,46,32,108,195,62,75,17,66,56,38,49,40,105,139,46,162,32,42,112,78,32,73,37,123,60,56,37,36,120,109,21,51,43,121,56,40,69,38,19,52,67,98,91,143,181,66,139,55,155,25,48,92,38,122,108,134,66,91,148,24,91,61,69,19,198,140,24,137,58,53,59,15,96,40,102,87,31,39,42,55,71,77,75,157,79,121,97,199,168,60,81,47,27,52,81,42,57,61,81,41,76,7,110,112,156,134,70,118,108,56,28,25,188,82,51,65,34,151,32,62,63,106,56,94,116,149,69,36,177,16,57,132,25,124,122,69,66,135,46,51,107,59,110,24,191,198,38,73,93,23,114,114,80,80,20,69,117,25,51,45,48,121,78,120,62,29,45,91,81,83,165,178,142,56,52,168,176,42,82,65,190,79,79,29,18,74,37,61,142,94,49,91,64,53,45,107,113,46,157,74,49,68,66,179,62,21,31,42,131,125,86,17,39,44,183,57,15,76,101,64,91,51,48,24,28,21,15,33,189,68,60,94,55,80,70,51,40,95,80,46,50,54,78,40,106,139,53,42,84,28,51,61,51,63,15,94,93,23,43,157,33,65,34,23,32,68,74,25,130,57,4,79,57,11,72,82,32,48,38,65,106,37,52,57,31,41,125,58,50,95,48,4,115,110,126,89,117,113,115,23,42,58,34,64,20,44,127,40,55,103,32,75,72,106,64,60,52,62,98,20,93,59,37,82,36,100,28,41,72,131,52,77,43,160,16,103,85,51,14,116,65,14,102,44,51,46,85,54,91,101,149,147,7,40,23,167,59,91,58,35,83,51,39,69,100,138,42,60,77,120,18,94,141,138,41,34,56,124,47,42,88,54,21,161,81,27,30,190,49,81,72,128,118,55,40,163,159,186,25,65,44,142,93,41,121,165,92,34,101,26,77,20,175,47,29,54,81,32,20,20,108,41,40,161,59,111,73,35,12,29,161,4,27,19,24,145,41,52,54,59,23,120,9,55,6,44,21,122,152,63,59,19,83,147,74,69,32,190,8,35,21,7,36,45,58,174,98,55,57,116,32,45,188,59,49,46,112,27,171,24,32,16,87,147,58,72,53,69,169,37,112,55,42,41,47,63,41,8,38,166,54,59,115,28,19,47,76,23,22,89,31,26,53,115,74,39,2,29,71,147,22,46,64,78,29,182,29,14,37,12,82,73,71,78,43,44,58,84,87,30,61,48,92,73,16,191,85,59,98,97,111,18,173,87,26,37,87,43,124,47,23,50,170,165,35,97,24,43,45,57,21,110,12,31,30,31,47,70,98,20,96,12,62,156,66,78,30,90,28,33,44,47,30,53,7,55,45,77,36,102,61,51,53,45,104,41,48,134,183,31,166,28,67,66,60,32,130,174,58,51,29,111,146,59,113,21,23,196,87,41,114,32,91,57,15,191,70,10,73,185,175,63,80,168,23,61,170,86,16,136,155,49,37,39,41,37,80,71,185,7,34,49,19,56,39,109,52,21,91,23,60,53,110,181,40,32,91,47,33,70,14,43,125,62,8,46,18,26,114,79,43,54,51,25,119,116,33,54,33,27,110,30,11,63,157,45,19,40,35,34,100,55,105,153,80,141,164,81,56,160,26,27,81,85,172,120,6,114,76,26,33,46,90,23,84,40,110,60,197,30,77,21,23,52,163,22,9,111,181,46,49,27,70,13,72,52,53,117,83,16,42,99,72,65,29,46,83,47,18,99,29,47,82,66,17,34,90,116,37,41,26,14,115,112,21,170,97,113,27,11,36,24,124,167,27,49,158,140,44,110,51,59,65,45,69,106,60,8,71,39,14,177,168,176,103,9,188,129,21,168,77,161,70,32,152,72,23,100,60,66,60,26,27,24,21,19,31,112,184,75,167,40,60,97,18,35,144,6,16,72,49,93,58,198,56,24,6,34,75,49,27,51,19,10,28,66,186,64,119,136,36,58,110,13,109,53,22,37,55,34,47,73,12,91,25,192,187,50,62,20,57,89,42,109,90,52,110,62,39,104,17,75,160,169,40,39,49,33,39,152,71,97,71,68,47,74,71,34,56,41,71,77,132,72,50,21,66,46,98,56,73,15,37,7,58,57,196,125,42,61,35,36,54,65,178,177,183,24,155,163,22,32,22,29,28,64,26,156,61,14,25,119,15,79,80,19,175,49,62,42,189,93,16,75,39,57,160,49,40,172,21,144,72,78,53,83,32,8,189,55,79,34,43,160,22,31,41,67,151,70,18,19,17,73,89,35,41,56,84,189,77,9,21,61,87,13,57,56,23,167,32,20,65,73,9,133,49,177,79,95,82,26,142,67,60,33,5,100,25,36,17,38,52,19,106,20,63,18,14,50,18,50,101,50,53,142,158,119,27,36,45,20,114,51,91,88,60,76,33,24,60,11,27,44,98,43,28,59,34,37,78,9,14,126,50,130,20,119,164,35,159,43,127,42,100,29,61,46,141,147,59,46,49,175,81,54,74,56,12,6,39,117,139,169,108,30,45,64,94,144,82,15,47,83,52,22,56,14,48,85,189,30,140,93,41,52,150,40,34,64,91,158,30,55,18,64,140,35,112,65,47,44,162,12,43,16,12,3,36,71,30,94,77,78,59,27,60,195,196,48,48,81,11,55,46,65,66,103,145,34,40,49,95,19,69,139,161,8,96,37,166,31,35,50,31],\"yaxis\":\"y\",\"type\":\"scattergl\"}],                        {\"template\":{\"data\":{\"histogram2dcontour\":[{\"type\":\"histogram2dcontour\",\"colorbar\":{\"outlinewidth\":0,\"ticks\":\"\"},\"colorscale\":[[0.0,\"#0d0887\"],[0.1111111111111111,\"#46039f\"],[0.2222222222222222,\"#7201a8\"],[0.3333333333333333,\"#9c179e\"],[0.4444444444444444,\"#bd3786\"],[0.5555555555555556,\"#d8576b\"],[0.6666666666666666,\"#ed7953\"],[0.7777777777777778,\"#fb9f3a\"],[0.8888888888888888,\"#fdca26\"],[1.0,\"#f0f921\"]]}],\"choropleth\":[{\"type\":\"choropleth\",\"colorbar\":{\"outlinewidth\":0,\"ticks\":\"\"}}],\"histogram2d\":[{\"type\":\"histogram2d\",\"colorbar\":{\"outlinewidth\":0,\"ticks\":\"\"},\"colorscale\":[[0.0,\"#0d0887\"],[0.1111111111111111,\"#46039f\"],[0.2222222222222222,\"#7201a8\"],[0.3333333333333333,\"#9c179e\"],[0.4444444444444444,\"#bd3786\"],[0.5555555555555556,\"#d8576b\"],[0.6666666666666666,\"#ed7953\"],[0.7777777777777778,\"#fb9f3a\"],[0.8888888888888888,\"#fdca26\"],[1.0,\"#f0f921\"]]}],\"heatmap\":[{\"type\":\"heatmap\",\"colorbar\":{\"outlinewidth\":0,\"ticks\":\"\"},\"colorscale\":[[0.0,\"#0d0887\"],[0.1111111111111111,\"#46039f\"],[0.2222222222222222,\"#7201a8\"],[0.3333333333333333,\"#9c179e\"],[0.4444444444444444,\"#bd3786\"],[0.5555555555555556,\"#d8576b\"],[0.6666666666666666,\"#ed7953\"],[0.7777777777777778,\"#fb9f3a\"],[0.8888888888888888,\"#fdca26\"],[1.0,\"#f0f921\"]]}],\"heatmapgl\":[{\"type\":\"heatmapgl\",\"colorbar\":{\"outlinewidth\":0,\"ticks\":\"\"},\"colorscale\":[[0.0,\"#0d0887\"],[0.1111111111111111,\"#46039f\"],[0.2222222222222222,\"#7201a8\"],[0.3333333333333333,\"#9c179e\"],[0.4444444444444444,\"#bd3786\"],[0.5555555555555556,\"#d8576b\"],[0.6666666666666666,\"#ed7953\"],[0.7777777777777778,\"#fb9f3a\"],[0.8888888888888888,\"#fdca26\"],[1.0,\"#f0f921\"]]}],\"contourcarpet\":[{\"type\":\"contourcarpet\",\"colorbar\":{\"outlinewidth\":0,\"ticks\":\"\"}}],\"contour\":[{\"type\":\"contour\",\"colorbar\":{\"outlinewidth\":0,\"ticks\":\"\"},\"colorscale\":[[0.0,\"#0d0887\"],[0.1111111111111111,\"#46039f\"],[0.2222222222222222,\"#7201a8\"],[0.3333333333333333,\"#9c179e\"],[0.4444444444444444,\"#bd3786\"],[0.5555555555555556,\"#d8576b\"],[0.6666666666666666,\"#ed7953\"],[0.7777777777777778,\"#fb9f3a\"],[0.8888888888888888,\"#fdca26\"],[1.0,\"#f0f921\"]]}],\"surface\":[{\"type\":\"surface\",\"colorbar\":{\"outlinewidth\":0,\"ticks\":\"\"},\"colorscale\":[[0.0,\"#0d0887\"],[0.1111111111111111,\"#46039f\"],[0.2222222222222222,\"#7201a8\"],[0.3333333333333333,\"#9c179e\"],[0.4444444444444444,\"#bd3786\"],[0.5555555555555556,\"#d8576b\"],[0.6666666666666666,\"#ed7953\"],[0.7777777777777778,\"#fb9f3a\"],[0.8888888888888888,\"#fdca26\"],[1.0,\"#f0f921\"]]}],\"mesh3d\":[{\"type\":\"mesh3d\",\"colorbar\":{\"outlinewidth\":0,\"ticks\":\"\"}}],\"scatter\":[{\"fillpattern\":{\"fillmode\":\"overlay\",\"size\":10,\"solidity\":0.2},\"type\":\"scatter\"}],\"parcoords\":[{\"type\":\"parcoords\",\"line\":{\"colorbar\":{\"outlinewidth\":0,\"ticks\":\"\"}}}],\"scatterpolargl\":[{\"type\":\"scatterpolargl\",\"marker\":{\"colorbar\":{\"outlinewidth\":0,\"ticks\":\"\"}}}],\"bar\":[{\"error_x\":{\"color\":\"#2a3f5f\"},\"error_y\":{\"color\":\"#2a3f5f\"},\"marker\":{\"line\":{\"color\":\"#E5ECF6\",\"width\":0.5},\"pattern\":{\"fillmode\":\"overlay\",\"size\":10,\"solidity\":0.2}},\"type\":\"bar\"}],\"scattergeo\":[{\"type\":\"scattergeo\",\"marker\":{\"colorbar\":{\"outlinewidth\":0,\"ticks\":\"\"}}}],\"scatterpolar\":[{\"type\":\"scatterpolar\",\"marker\":{\"colorbar\":{\"outlinewidth\":0,\"ticks\":\"\"}}}],\"histogram\":[{\"marker\":{\"pattern\":{\"fillmode\":\"overlay\",\"size\":10,\"solidity\":0.2}},\"type\":\"histogram\"}],\"scattergl\":[{\"type\":\"scattergl\",\"marker\":{\"colorbar\":{\"outlinewidth\":0,\"ticks\":\"\"}}}],\"scatter3d\":[{\"type\":\"scatter3d\",\"line\":{\"colorbar\":{\"outlinewidth\":0,\"ticks\":\"\"}},\"marker\":{\"colorbar\":{\"outlinewidth\":0,\"ticks\":\"\"}}}],\"scattermapbox\":[{\"type\":\"scattermapbox\",\"marker\":{\"colorbar\":{\"outlinewidth\":0,\"ticks\":\"\"}}}],\"scatterternary\":[{\"type\":\"scatterternary\",\"marker\":{\"colorbar\":{\"outlinewidth\":0,\"ticks\":\"\"}}}],\"scattercarpet\":[{\"type\":\"scattercarpet\",\"marker\":{\"colorbar\":{\"outlinewidth\":0,\"ticks\":\"\"}}}],\"carpet\":[{\"aaxis\":{\"endlinecolor\":\"#2a3f5f\",\"gridcolor\":\"white\",\"linecolor\":\"white\",\"minorgridcolor\":\"white\",\"startlinecolor\":\"#2a3f5f\"},\"baxis\":{\"endlinecolor\":\"#2a3f5f\",\"gridcolor\":\"white\",\"linecolor\":\"white\",\"minorgridcolor\":\"white\",\"startlinecolor\":\"#2a3f5f\"},\"type\":\"carpet\"}],\"table\":[{\"cells\":{\"fill\":{\"color\":\"#EBF0F8\"},\"line\":{\"color\":\"white\"}},\"header\":{\"fill\":{\"color\":\"#C8D4E3\"},\"line\":{\"color\":\"white\"}},\"type\":\"table\"}],\"barpolar\":[{\"marker\":{\"line\":{\"color\":\"#E5ECF6\",\"width\":0.5},\"pattern\":{\"fillmode\":\"overlay\",\"size\":10,\"solidity\":0.2}},\"type\":\"barpolar\"}],\"pie\":[{\"automargin\":true,\"type\":\"pie\"}]},\"layout\":{\"autotypenumbers\":\"strict\",\"colorway\":[\"#636efa\",\"#EF553B\",\"#00cc96\",\"#ab63fa\",\"#FFA15A\",\"#19d3f3\",\"#FF6692\",\"#B6E880\",\"#FF97FF\",\"#FECB52\"],\"font\":{\"color\":\"#2a3f5f\"},\"hovermode\":\"closest\",\"hoverlabel\":{\"align\":\"left\"},\"paper_bgcolor\":\"white\",\"plot_bgcolor\":\"#E5ECF6\",\"polar\":{\"bgcolor\":\"#E5ECF6\",\"angularaxis\":{\"gridcolor\":\"white\",\"linecolor\":\"white\",\"ticks\":\"\"},\"radialaxis\":{\"gridcolor\":\"white\",\"linecolor\":\"white\",\"ticks\":\"\"}},\"ternary\":{\"bgcolor\":\"#E5ECF6\",\"aaxis\":{\"gridcolor\":\"white\",\"linecolor\":\"white\",\"ticks\":\"\"},\"baxis\":{\"gridcolor\":\"white\",\"linecolor\":\"white\",\"ticks\":\"\"},\"caxis\":{\"gridcolor\":\"white\",\"linecolor\":\"white\",\"ticks\":\"\"}},\"coloraxis\":{\"colorbar\":{\"outlinewidth\":0,\"ticks\":\"\"}},\"colorscale\":{\"sequential\":[[0.0,\"#0d0887\"],[0.1111111111111111,\"#46039f\"],[0.2222222222222222,\"#7201a8\"],[0.3333333333333333,\"#9c179e\"],[0.4444444444444444,\"#bd3786\"],[0.5555555555555556,\"#d8576b\"],[0.6666666666666666,\"#ed7953\"],[0.7777777777777778,\"#fb9f3a\"],[0.8888888888888888,\"#fdca26\"],[1.0,\"#f0f921\"]],\"sequentialminus\":[[0.0,\"#0d0887\"],[0.1111111111111111,\"#46039f\"],[0.2222222222222222,\"#7201a8\"],[0.3333333333333333,\"#9c179e\"],[0.4444444444444444,\"#bd3786\"],[0.5555555555555556,\"#d8576b\"],[0.6666666666666666,\"#ed7953\"],[0.7777777777777778,\"#fb9f3a\"],[0.8888888888888888,\"#fdca26\"],[1.0,\"#f0f921\"]],\"diverging\":[[0,\"#8e0152\"],[0.1,\"#c51b7d\"],[0.2,\"#de77ae\"],[0.3,\"#f1b6da\"],[0.4,\"#fde0ef\"],[0.5,\"#f7f7f7\"],[0.6,\"#e6f5d0\"],[0.7,\"#b8e186\"],[0.8,\"#7fbc41\"],[0.9,\"#4d9221\"],[1,\"#276419\"]]},\"xaxis\":{\"gridcolor\":\"white\",\"linecolor\":\"white\",\"ticks\":\"\",\"title\":{\"standoff\":15},\"zerolinecolor\":\"white\",\"automargin\":true,\"zerolinewidth\":2},\"yaxis\":{\"gridcolor\":\"white\",\"linecolor\":\"white\",\"ticks\":\"\",\"title\":{\"standoff\":15},\"zerolinecolor\":\"white\",\"automargin\":true,\"zerolinewidth\":2},\"scene\":{\"xaxis\":{\"backgroundcolor\":\"#E5ECF6\",\"gridcolor\":\"white\",\"linecolor\":\"white\",\"showbackground\":true,\"ticks\":\"\",\"zerolinecolor\":\"white\",\"gridwidth\":2},\"yaxis\":{\"backgroundcolor\":\"#E5ECF6\",\"gridcolor\":\"white\",\"linecolor\":\"white\",\"showbackground\":true,\"ticks\":\"\",\"zerolinecolor\":\"white\",\"gridwidth\":2},\"zaxis\":{\"backgroundcolor\":\"#E5ECF6\",\"gridcolor\":\"white\",\"linecolor\":\"white\",\"showbackground\":true,\"ticks\":\"\",\"zerolinecolor\":\"white\",\"gridwidth\":2}},\"shapedefaults\":{\"line\":{\"color\":\"#2a3f5f\"}},\"annotationdefaults\":{\"arrowcolor\":\"#2a3f5f\",\"arrowhead\":0,\"arrowwidth\":1},\"geo\":{\"bgcolor\":\"white\",\"landcolor\":\"#E5ECF6\",\"subunitcolor\":\"white\",\"showland\":true,\"showlakes\":true,\"lakecolor\":\"white\"},\"title\":{\"x\":0.05},\"mapbox\":{\"style\":\"light\"}}},\"xaxis\":{\"anchor\":\"y\",\"domain\":[0.0,1.0],\"title\":{\"text\":\"followers\"}},\"yaxis\":{\"anchor\":\"x\",\"domain\":[0.0,1.0],\"title\":{\"text\":\"likes\"}},\"legend\":{\"tracegroupgap\":0},\"title\":{\"text\":\"Likes vs Followers\"}},                        {\"responsive\": true}                    ).then(function(){\n",
              "                            \n",
              "var gd = document.getElementById('51f05d38-4443-42c5-bdbb-c79e9d1bfb22');\n",
              "var x = new MutationObserver(function (mutations, observer) {{\n",
              "        var display = window.getComputedStyle(gd).display;\n",
              "        if (!display || display === 'none') {{\n",
              "            console.log([gd, 'removed!']);\n",
              "            Plotly.purge(gd);\n",
              "            observer.disconnect();\n",
              "        }}\n",
              "}});\n",
              "\n",
              "// Listen for the removal of the full notebook cells\n",
              "var notebookContainer = gd.closest('#notebook-container');\n",
              "if (notebookContainer) {{\n",
              "    x.observe(notebookContainer, {childList: true});\n",
              "}}\n",
              "\n",
              "// Listen for the clearing of the current output cell\n",
              "var outputEl = gd.closest('.output');\n",
              "if (outputEl) {{\n",
              "    x.observe(outputEl, {childList: true});\n",
              "}}\n",
              "\n",
              "                        })                };                            </script>        </div>\n",
              "</body>\n",
              "</html>"
            ]
          },
          "metadata": {}
        }
      ],
      "source": [
        "import plotly.express as px\n",
        "\n",
        "fig = px.scatter(df_last_posts, x='followers', y='likes', title='Likes vs Followers')\n",
        "fig.show()\n"
      ]
    },
    {
      "cell_type": "markdown",
      "source": [
        "This visual correlation that we see will serve as the intuition for the modelling that we are about to do!"
      ],
      "metadata": {
        "id": "8d2fR9vSlJk0"
      },
      "id": "8d2fR9vSlJk0"
    },
    {
      "cell_type": "markdown",
      "id": "7c5281be-e46d-4d87-8b16-52e2f859ebda",
      "metadata": {
        "id": "7c5281be-e46d-4d87-8b16-52e2f859ebda"
      },
      "source": [
        "## Modeling"
      ]
    },
    {
      "cell_type": "markdown",
      "source": [
        "### Preprocessing"
      ],
      "metadata": {
        "id": "UBopiI25SQR1"
      },
      "id": "UBopiI25SQR1"
    },
    {
      "cell_type": "markdown",
      "source": [
        "a) Isolate the target and the feature!\n",
        "\n",
        "For our first model, we'll start with the feature being the number of followers. The target, as you already know, is the number of likes!\n",
        "\n",
        "**Assign X and y appropriately!**"
      ],
      "metadata": {
        "id": "ubplAaFxpjgJ"
      },
      "id": "ubplAaFxpjgJ"
    },
    {
      "cell_type": "code",
      "source": [
        "#Assigning X and Y\n",
        "# Feature\n",
        "X = df_last_posts[['followers']]\n",
        " # Target\n",
        "y = df_last_posts['likes']\n"
      ],
      "metadata": {
        "id": "zlHEfVY5pJIE"
      },
      "id": "zlHEfVY5pJIE",
      "execution_count": null,
      "outputs": []
    },
    {
      "cell_type": "markdown",
      "id": "6897d508-f3c2-48ce-b1cb-575ff03a57e4",
      "metadata": {
        "id": "6897d508-f3c2-48ce-b1cb-575ff03a57e4"
      },
      "source": [
        "b) Remember what we said about the importance of separating data into train and test splits?\n",
        "\n",
        "Split X and y, **80% for training and 20% for testing** into appropriately named variables - X_train, X_test, y_train and y_test.\n",
        "\n",
        "Don't make your life difficult, use the `train_test_split` function!"
      ]
    },
    {
      "cell_type": "code",
      "execution_count": null,
      "id": "ca1087ea-d8e7-4cd5-8555-5c5269128c77",
      "metadata": {
        "id": "ca1087ea-d8e7-4cd5-8555-5c5269128c77",
        "colab": {
          "base_uri": "https://localhost:8080/"
        },
        "outputId": "66be6b12-ddee-4fb6-916d-aa8c6ce94f81"
      },
      "outputs": [
        {
          "output_type": "stream",
          "name": "stdout",
          "text": [
            "(7438, 1)\n",
            "(1860, 1)\n",
            "(7438,)\n",
            "(1860,)\n"
          ]
        }
      ],
      "source": [
        "#Scaling\n",
        "from sklearn.model_selection import train_test_split\n",
        "\n",
        "X_train, X_test, y_train, y_test = train_test_split(X, y, test_size=0.2)\n",
        "\n",
        "print( X_train.shape)\n",
        "print( X_test.shape)\n",
        "print(y_train.shape)\n",
        "print( y_test.shape)\n"
      ]
    },
    {
      "cell_type": "markdown",
      "source": [
        "c) Now we need to normalize! I know you're excited to apply your new modelling skills, but we first need to make sure the data is scaled!\n",
        "\n",
        "Scale X_train and X_test - remember to only fit the scaler on X_train and only to transform X_test!"
      ],
      "metadata": {
        "id": "lB_mq1JBN_vm"
      },
      "id": "lB_mq1JBN_vm"
    },
    {
      "cell_type": "code",
      "source": [
        "# Create a scaler\n",
        "from sklearn.preprocessing import StandardScaler\n",
        "\n",
        "scaler = StandardScaler()\n",
        "\n",
        "X_train_scaled = scaler.fit_transform(X_train)\n",
        "\n",
        "X_test_scaled = scaler.transform(X_test)\n"
      ],
      "metadata": {
        "id": "5xyHZLzuN_jG"
      },
      "id": "5xyHZLzuN_jG",
      "execution_count": null,
      "outputs": []
    },
    {
      "cell_type": "markdown",
      "source": [
        "### Linear Regression"
      ],
      "metadata": {
        "id": "xVTpUez4ST_h"
      },
      "id": "xVTpUez4ST_h"
    },
    {
      "cell_type": "markdown",
      "id": "3fb18f92-55f4-4a00-bb2b-0a15173d7e05",
      "metadata": {
        "id": "3fb18f92-55f4-4a00-bb2b-0a15173d7e05"
      },
      "source": [
        "d) Train a Linear Regression model that predicts likes (our y) based on followers (our X)! Remember to only train it on our **scaled training set**, not on our test set!"
      ]
    },
    {
      "cell_type": "code",
      "execution_count": null,
      "id": "2ec24c72-2ba2-45d7-a65c-aa68fa574d8c",
      "metadata": {
        "id": "2ec24c72-2ba2-45d7-a65c-aa68fa574d8c",
        "colab": {
          "base_uri": "https://localhost:8080/",
          "height": 74
        },
        "outputId": "68ebf7d5-6984-4710-a62f-a11b85cc392e"
      },
      "outputs": [
        {
          "output_type": "execute_result",
          "data": {
            "text/plain": [
              "LinearRegression()"
            ],
            "text/html": [
              "<style>#sk-container-id-10 {color: black;background-color: white;}#sk-container-id-10 pre{padding: 0;}#sk-container-id-10 div.sk-toggleable {background-color: white;}#sk-container-id-10 label.sk-toggleable__label {cursor: pointer;display: block;width: 100%;margin-bottom: 0;padding: 0.3em;box-sizing: border-box;text-align: center;}#sk-container-id-10 label.sk-toggleable__label-arrow:before {content: \"▸\";float: left;margin-right: 0.25em;color: #696969;}#sk-container-id-10 label.sk-toggleable__label-arrow:hover:before {color: black;}#sk-container-id-10 div.sk-estimator:hover label.sk-toggleable__label-arrow:before {color: black;}#sk-container-id-10 div.sk-toggleable__content {max-height: 0;max-width: 0;overflow: hidden;text-align: left;background-color: #f0f8ff;}#sk-container-id-10 div.sk-toggleable__content pre {margin: 0.2em;color: black;border-radius: 0.25em;background-color: #f0f8ff;}#sk-container-id-10 input.sk-toggleable__control:checked~div.sk-toggleable__content {max-height: 200px;max-width: 100%;overflow: auto;}#sk-container-id-10 input.sk-toggleable__control:checked~label.sk-toggleable__label-arrow:before {content: \"▾\";}#sk-container-id-10 div.sk-estimator input.sk-toggleable__control:checked~label.sk-toggleable__label {background-color: #d4ebff;}#sk-container-id-10 div.sk-label input.sk-toggleable__control:checked~label.sk-toggleable__label {background-color: #d4ebff;}#sk-container-id-10 input.sk-hidden--visually {border: 0;clip: rect(1px 1px 1px 1px);clip: rect(1px, 1px, 1px, 1px);height: 1px;margin: -1px;overflow: hidden;padding: 0;position: absolute;width: 1px;}#sk-container-id-10 div.sk-estimator {font-family: monospace;background-color: #f0f8ff;border: 1px dotted black;border-radius: 0.25em;box-sizing: border-box;margin-bottom: 0.5em;}#sk-container-id-10 div.sk-estimator:hover {background-color: #d4ebff;}#sk-container-id-10 div.sk-parallel-item::after {content: \"\";width: 100%;border-bottom: 1px solid gray;flex-grow: 1;}#sk-container-id-10 div.sk-label:hover label.sk-toggleable__label {background-color: #d4ebff;}#sk-container-id-10 div.sk-serial::before {content: \"\";position: absolute;border-left: 1px solid gray;box-sizing: border-box;top: 0;bottom: 0;left: 50%;z-index: 0;}#sk-container-id-10 div.sk-serial {display: flex;flex-direction: column;align-items: center;background-color: white;padding-right: 0.2em;padding-left: 0.2em;position: relative;}#sk-container-id-10 div.sk-item {position: relative;z-index: 1;}#sk-container-id-10 div.sk-parallel {display: flex;align-items: stretch;justify-content: center;background-color: white;position: relative;}#sk-container-id-10 div.sk-item::before, #sk-container-id-10 div.sk-parallel-item::before {content: \"\";position: absolute;border-left: 1px solid gray;box-sizing: border-box;top: 0;bottom: 0;left: 50%;z-index: -1;}#sk-container-id-10 div.sk-parallel-item {display: flex;flex-direction: column;z-index: 1;position: relative;background-color: white;}#sk-container-id-10 div.sk-parallel-item:first-child::after {align-self: flex-end;width: 50%;}#sk-container-id-10 div.sk-parallel-item:last-child::after {align-self: flex-start;width: 50%;}#sk-container-id-10 div.sk-parallel-item:only-child::after {width: 0;}#sk-container-id-10 div.sk-dashed-wrapped {border: 1px dashed gray;margin: 0 0.4em 0.5em 0.4em;box-sizing: border-box;padding-bottom: 0.4em;background-color: white;}#sk-container-id-10 div.sk-label label {font-family: monospace;font-weight: bold;display: inline-block;line-height: 1.2em;}#sk-container-id-10 div.sk-label-container {text-align: center;}#sk-container-id-10 div.sk-container {/* jupyter's `normalize.less` sets `[hidden] { display: none; }` but bootstrap.min.css set `[hidden] { display: none !important; }` so we also need the `!important` here to be able to override the default hidden behavior on the sphinx rendered scikit-learn.org. See: https://github.com/scikit-learn/scikit-learn/issues/21755 */display: inline-block !important;position: relative;}#sk-container-id-10 div.sk-text-repr-fallback {display: none;}</style><div id=\"sk-container-id-10\" class=\"sk-top-container\"><div class=\"sk-text-repr-fallback\"><pre>LinearRegression()</pre><b>In a Jupyter environment, please rerun this cell to show the HTML representation or trust the notebook. <br />On GitHub, the HTML representation is unable to render, please try loading this page with nbviewer.org.</b></div><div class=\"sk-container\" hidden><div class=\"sk-item\"><div class=\"sk-estimator sk-toggleable\"><input class=\"sk-toggleable__control sk-hidden--visually\" id=\"sk-estimator-id-10\" type=\"checkbox\" checked><label for=\"sk-estimator-id-10\" class=\"sk-toggleable__label sk-toggleable__label-arrow\">LinearRegression</label><div class=\"sk-toggleable__content\"><pre>LinearRegression()</pre></div></div></div></div></div>"
            ]
          },
          "metadata": {},
          "execution_count": 124
        }
      ],
      "source": [
        "from sklearn.linear_model import LinearRegression\n",
        "\n",
        "model = LinearRegression()\n",
        "\n",
        "model.fit(X_train_scaled, y_train)\n"
      ]
    },
    {
      "cell_type": "markdown",
      "source": [
        "### Evaluation"
      ],
      "metadata": {
        "id": "AYMNUTTXSXXF"
      },
      "id": "AYMNUTTXSXXF"
    },
    {
      "cell_type": "markdown",
      "id": "e63158ea-1982-4467-b620-94c6e6e4fd3e",
      "metadata": {
        "id": "e63158ea-1982-4467-b620-94c6e6e4fd3e"
      },
      "source": [
        "e) What is the R2 score on the train data? What is the MSE (mean squared error)? What about the MAE (mean absolute error)?\n",
        "\n",
        "Do you think our model is performing well?\n",
        "\n",
        "<details>\n",
        "<summary><i>Hint</i></summary>\n",
        "    ⟿  Use `mean_squared_error` and `mean_absolute_error` of module `sklearn.metrics`.\n",
        "</details>"
      ]
    },
    {
      "cell_type": "code",
      "execution_count": null,
      "id": "7c405aed-b0ef-4a0f-ace8-ff28950e2b43",
      "metadata": {
        "id": "7c405aed-b0ef-4a0f-ace8-ff28950e2b43",
        "colab": {
          "base_uri": "https://localhost:8080/"
        },
        "outputId": "8145ed4d-e70e-4c62-a0f2-57edfa899794"
      },
      "outputs": [
        {
          "output_type": "stream",
          "name": "stdout",
          "text": [
            "R2 score: 0.24005282888301305\n",
            "Mean Squared Error: 1844.9254489401358\n",
            "Mean Absolute Error: 33.79285786112726\n"
          ]
        }
      ],
      "source": [
        "from sklearn.metrics import r2_score, mean_squared_error, mean_absolute_error\n",
        "\n",
        "# Predict likes on the scaled training set\n",
        "y_train_pred = model.predict(X_train_scaled)\n",
        "\n",
        "# Calculate R2 score\n",
        "r2_train = r2_score(y_train, y_train_pred)\n",
        "\n",
        "# Calculate mean squared error (MSE)\n",
        "mse_train = mean_squared_error(y_train, y_train_pred)\n",
        "\n",
        "# Calculate mean absolute error (MAE)\n",
        "mae_train = mean_absolute_error(y_train, y_train_pred)\n",
        "\n",
        "# Display the metrics\n",
        "print(\"R2 score:\", r2_train)\n",
        "print(\"Mean Squared Error:\", mse_train)\n",
        "print(\"Mean Absolute Error:\", mae_train)\n"
      ]
    },
    {
      "cell_type": "markdown",
      "source": [
        "R2 is close to 0, so the model doesn't look very good.\n",
        "MSE is quite difficult to interpret, but MAE is much simpler. Our model has an error of 32 likes on average."
      ],
      "metadata": {
        "id": "uPdVQ2jpo5vm"
      },
      "id": "uPdVQ2jpo5vm"
    },
    {
      "cell_type": "markdown",
      "id": "43068198-1197-4d8a-b324-0d56d237c416",
      "metadata": {
        "id": "43068198-1197-4d8a-b324-0d56d237c416"
      },
      "source": [
        "f) It's time to evaluate our model on test data!\n",
        "\n",
        "Use your model to predict likes for test data."
      ]
    },
    {
      "cell_type": "code",
      "source": [
        "# Predict likes on the scaled test set\n",
        "y_test_pred = model.predict(X_test_scaled)\n",
        "y_test_pred"
      ],
      "metadata": {
        "id": "bHuAxFZGp1rh",
        "colab": {
          "base_uri": "https://localhost:8080/"
        },
        "outputId": "d4e3b8e1-5035-4a0d-ead0-e89b16a74ab3"
      },
      "id": "bHuAxFZGp1rh",
      "execution_count": null,
      "outputs": [
        {
          "output_type": "execute_result",
          "data": {
            "text/plain": [
              "array([ 53.28505823,  41.44038863, 117.96767785, ...,  57.13579444,\n",
              "        47.33835168,  48.11824762])"
            ]
          },
          "metadata": {},
          "execution_count": 126
        }
      ]
    },
    {
      "cell_type": "markdown",
      "id": "46707d16-26df-4d71-8660-8dce238f467b",
      "metadata": {
        "id": "46707d16-26df-4d71-8660-8dce238f467b"
      },
      "source": [
        "g) What is R2 score value on test data? What is the MSE (mean squared error)?\n",
        "\n",
        "Do you think our model is a good one?"
      ]
    },
    {
      "cell_type": "code",
      "execution_count": null,
      "id": "b51948bc-8c97-4d56-8823-3f91e03d090f",
      "metadata": {
        "id": "b51948bc-8c97-4d56-8823-3f91e03d090f",
        "colab": {
          "base_uri": "https://localhost:8080/"
        },
        "outputId": "b0ad1142-0dc2-4aa2-a03c-bebda59c05b4"
      },
      "outputs": [
        {
          "output_type": "stream",
          "name": "stdout",
          "text": [
            "R2 score on the test data: 0.23677812988081237\n",
            "Mean Squared Error on the test data: 1655.8774694401682\n"
          ]
        }
      ],
      "source": [
        "from sklearn.metrics import r2_score, mean_squared_error\n",
        "\n",
        "# Calculate R2 score on the test data\n",
        "r2_test = r2_score(y_test, y_test_pred)\n",
        "\n",
        "# Calculate mean squared error (MSE) on the test data\n",
        "mse_test = mean_squared_error(y_test, y_test_pred)\n",
        "\n",
        "# Display the metrics on the test data\n",
        "print(\"R2 score on the test data:\", r2_test)\n",
        "print(\"Mean Squared Error on the test data:\", mse_test)\n"
      ]
    },
    {
      "cell_type": "markdown",
      "source": [
        "Results are similar, our model is not really good. It was expected because with such simple model, you cannot get very accurate results."
      ],
      "metadata": {
        "id": "kVO-Xg1NqVpJ"
      },
      "id": "kVO-Xg1NqVpJ"
    },
    {
      "cell_type": "markdown",
      "id": "57322111-1d7d-40a1-bd81-56eb5e307466",
      "metadata": {
        "id": "57322111-1d7d-40a1-bd81-56eb5e307466"
      },
      "source": [
        "h) We will try to add one feature to our model.\n",
        "\n",
        "What does this code do?"
      ]
    },
    {
      "cell_type": "code",
      "execution_count": null,
      "id": "9b46aecd-a3b4-4160-9f4f-382f4617a2a5",
      "metadata": {
        "id": "9b46aecd-a3b4-4160-9f4f-382f4617a2a5"
      },
      "outputs": [],
      "source": [
        "# load data\n",
        "archive = pd.read_csv('posts.csv.bz', compression='bz2')\n",
        "\n",
        "# sort values by date\n",
        "archive = archive.sort_values(by='ts', ascending=True)\n",
        "\n",
        "# keep only most recent posts\n",
        "most_recent_posts = archive.drop_duplicates('id', keep='last')\n",
        "\n",
        "# keep from archive every posts except most recent\n",
        "posts_wo_most_recent = archive[~archive.index.isin(most_recent_posts.index)]\n",
        "\n",
        "# compute median of likes on previous posts\n",
        "median_last_posts = posts_wo_most_recent.groupby('id', as_index=False)[['likes']].median()\n",
        "\n",
        "# rename column likes by historical_likes\n",
        "median_last_posts = median_last_posts.rename({'likes': 'historical_likes'}, axis=1)\n",
        "\n",
        "# merge this colum to initial dataframe\n",
        "df_posts_new = most_recent_posts.merge(median_last_posts, on=\"id\")"
      ]
    },
    {
      "cell_type": "markdown",
      "source": [
        "i) Have a look at `df_posts_new` to understand what the previous code did!"
      ],
      "metadata": {
        "id": "hBkCXgJRsYAp"
      },
      "id": "hBkCXgJRsYAp"
    },
    {
      "cell_type": "code",
      "source": [
        "# Display the first few rows of df_posts_new\n",
        "print(df_posts_new.head())\n"
      ],
      "metadata": {
        "id": "ZmodSnqfsXeg",
        "colab": {
          "base_uri": "https://localhost:8080/"
        },
        "outputId": "6521edb7-990b-4de5-d916-10db40114aa4"
      },
      "id": "ZmodSnqfsXeg",
      "execution_count": null,
      "outputs": [
        {
          "output_type": "stream",
          "name": "stdout",
          "text": [
            "         id  followers  comments  posts  likes                   ts  \\\n",
            "0  c43f3233       1532         2     76    177  2016-03-26 20:15:50   \n",
            "1  38cc9619       1395        10    152    192  2016-04-01 14:53:58   \n",
            "2  58ce1b8d        582         1     80     32  2016-06-23 12:28:21   \n",
            "3  0dd11d6c       1566         0     57    150  2016-07-24 19:29:49   \n",
            "4  688eb92e       1675         1    159    166  2016-08-24 21:15:57   \n",
            "\n",
            "   historical_likes  \n",
            "0             146.0  \n",
            "1             187.0  \n",
            "2              17.5  \n",
            "3             168.0  \n",
            "4             149.0  \n"
          ]
        }
      ]
    },
    {
      "cell_type": "markdown",
      "source": [
        "j) Let's start all over, but now X is **followers and historical likes**.\n",
        "\n",
        "Split X and y!"
      ],
      "metadata": {
        "id": "7FmybJDWslDs"
      },
      "id": "7FmybJDWslDs"
    },
    {
      "cell_type": "code",
      "source": [
        "# Assuming df_posts_new is the name of your dataframe\n",
        "# Features\n",
        "X = df_posts_new[['followers', 'historical_likes']]\n",
        " # Target\n",
        "y = df_posts_new['likes']\n"
      ],
      "metadata": {
        "id": "Yp1SrjFVsygA"
      },
      "id": "Yp1SrjFVsygA",
      "execution_count": null,
      "outputs": []
    },
    {
      "cell_type": "markdown",
      "source": [
        "k) Split into train and test split!"
      ],
      "metadata": {
        "id": "bZ5RTNGps8N4"
      },
      "id": "bZ5RTNGps8N4"
    },
    {
      "cell_type": "code",
      "source": [
        "from sklearn.model_selection import train_test_split\n",
        "\n",
        "# Split the data into 80% training and 20% testing\n",
        "X_train, X_test, y_train, y_test = train_test_split(X, y, test_size=0.2, random_state=42)\n",
        "\n",
        "# Display the shapes of the resulting sets\n",
        "print( X_train.shape)\n",
        "print (X_test.shape)\n",
        "print(y_train.shape)\n",
        "print (y_test.shape)"
      ],
      "metadata": {
        "id": "5ZeL3ETStA-G",
        "colab": {
          "base_uri": "https://localhost:8080/"
        },
        "outputId": "0caf8b35-8c8d-41ee-e3e8-473bff09032f"
      },
      "id": "5ZeL3ETStA-G",
      "execution_count": null,
      "outputs": [
        {
          "output_type": "stream",
          "name": "stdout",
          "text": [
            "(7397, 2)\n",
            "(1850, 2)\n",
            "(7397,)\n",
            "(1850,)\n"
          ]
        }
      ]
    },
    {
      "cell_type": "markdown",
      "source": [
        "l) Scale!"
      ],
      "metadata": {
        "id": "WaiPVJk_tEkK"
      },
      "id": "WaiPVJk_tEkK"
    },
    {
      "cell_type": "code",
      "source": [
        "from sklearn.preprocessing import StandardScaler\n",
        "\n",
        "# Create a scaler\n",
        "scaler = StandardScaler()\n",
        "\n",
        "X_train_scaled = scaler.fit_transform(X_train)\n",
        "\n",
        "X_test_scaled = scaler.transform(X_test)\n"
      ],
      "metadata": {
        "id": "dBywkH80tGft"
      },
      "id": "dBywkH80tGft",
      "execution_count": null,
      "outputs": []
    },
    {
      "cell_type": "markdown",
      "source": [
        "m) Time to train a new model!\n",
        "\n",
        "Train a new linear regression with our new `X_train_scaled`!"
      ],
      "metadata": {
        "id": "r9UDFNJ5tLVD"
      },
      "id": "r9UDFNJ5tLVD"
    },
    {
      "cell_type": "code",
      "source": [
        "from sklearn.linear_model import LinearRegression\n",
        "\n",
        "model_new = LinearRegression()\n",
        "\n",
        "model_new.fit(X_train_scaled, y_train)\n"
      ],
      "metadata": {
        "colab": {
          "base_uri": "https://localhost:8080/",
          "height": 74
        },
        "id": "vsQvW9FftUTa",
        "outputId": "ac7a36a8-a6c3-40af-f455-1e552a9bc1ec"
      },
      "id": "vsQvW9FftUTa",
      "execution_count": null,
      "outputs": [
        {
          "output_type": "execute_result",
          "data": {
            "text/plain": [
              "LinearRegression()"
            ],
            "text/html": [
              "<style>#sk-container-id-11 {color: black;background-color: white;}#sk-container-id-11 pre{padding: 0;}#sk-container-id-11 div.sk-toggleable {background-color: white;}#sk-container-id-11 label.sk-toggleable__label {cursor: pointer;display: block;width: 100%;margin-bottom: 0;padding: 0.3em;box-sizing: border-box;text-align: center;}#sk-container-id-11 label.sk-toggleable__label-arrow:before {content: \"▸\";float: left;margin-right: 0.25em;color: #696969;}#sk-container-id-11 label.sk-toggleable__label-arrow:hover:before {color: black;}#sk-container-id-11 div.sk-estimator:hover label.sk-toggleable__label-arrow:before {color: black;}#sk-container-id-11 div.sk-toggleable__content {max-height: 0;max-width: 0;overflow: hidden;text-align: left;background-color: #f0f8ff;}#sk-container-id-11 div.sk-toggleable__content pre {margin: 0.2em;color: black;border-radius: 0.25em;background-color: #f0f8ff;}#sk-container-id-11 input.sk-toggleable__control:checked~div.sk-toggleable__content {max-height: 200px;max-width: 100%;overflow: auto;}#sk-container-id-11 input.sk-toggleable__control:checked~label.sk-toggleable__label-arrow:before {content: \"▾\";}#sk-container-id-11 div.sk-estimator input.sk-toggleable__control:checked~label.sk-toggleable__label {background-color: #d4ebff;}#sk-container-id-11 div.sk-label input.sk-toggleable__control:checked~label.sk-toggleable__label {background-color: #d4ebff;}#sk-container-id-11 input.sk-hidden--visually {border: 0;clip: rect(1px 1px 1px 1px);clip: rect(1px, 1px, 1px, 1px);height: 1px;margin: -1px;overflow: hidden;padding: 0;position: absolute;width: 1px;}#sk-container-id-11 div.sk-estimator {font-family: monospace;background-color: #f0f8ff;border: 1px dotted black;border-radius: 0.25em;box-sizing: border-box;margin-bottom: 0.5em;}#sk-container-id-11 div.sk-estimator:hover {background-color: #d4ebff;}#sk-container-id-11 div.sk-parallel-item::after {content: \"\";width: 100%;border-bottom: 1px solid gray;flex-grow: 1;}#sk-container-id-11 div.sk-label:hover label.sk-toggleable__label {background-color: #d4ebff;}#sk-container-id-11 div.sk-serial::before {content: \"\";position: absolute;border-left: 1px solid gray;box-sizing: border-box;top: 0;bottom: 0;left: 50%;z-index: 0;}#sk-container-id-11 div.sk-serial {display: flex;flex-direction: column;align-items: center;background-color: white;padding-right: 0.2em;padding-left: 0.2em;position: relative;}#sk-container-id-11 div.sk-item {position: relative;z-index: 1;}#sk-container-id-11 div.sk-parallel {display: flex;align-items: stretch;justify-content: center;background-color: white;position: relative;}#sk-container-id-11 div.sk-item::before, #sk-container-id-11 div.sk-parallel-item::before {content: \"\";position: absolute;border-left: 1px solid gray;box-sizing: border-box;top: 0;bottom: 0;left: 50%;z-index: -1;}#sk-container-id-11 div.sk-parallel-item {display: flex;flex-direction: column;z-index: 1;position: relative;background-color: white;}#sk-container-id-11 div.sk-parallel-item:first-child::after {align-self: flex-end;width: 50%;}#sk-container-id-11 div.sk-parallel-item:last-child::after {align-self: flex-start;width: 50%;}#sk-container-id-11 div.sk-parallel-item:only-child::after {width: 0;}#sk-container-id-11 div.sk-dashed-wrapped {border: 1px dashed gray;margin: 0 0.4em 0.5em 0.4em;box-sizing: border-box;padding-bottom: 0.4em;background-color: white;}#sk-container-id-11 div.sk-label label {font-family: monospace;font-weight: bold;display: inline-block;line-height: 1.2em;}#sk-container-id-11 div.sk-label-container {text-align: center;}#sk-container-id-11 div.sk-container {/* jupyter's `normalize.less` sets `[hidden] { display: none; }` but bootstrap.min.css set `[hidden] { display: none !important; }` so we also need the `!important` here to be able to override the default hidden behavior on the sphinx rendered scikit-learn.org. See: https://github.com/scikit-learn/scikit-learn/issues/21755 */display: inline-block !important;position: relative;}#sk-container-id-11 div.sk-text-repr-fallback {display: none;}</style><div id=\"sk-container-id-11\" class=\"sk-top-container\"><div class=\"sk-text-repr-fallback\"><pre>LinearRegression()</pre><b>In a Jupyter environment, please rerun this cell to show the HTML representation or trust the notebook. <br />On GitHub, the HTML representation is unable to render, please try loading this page with nbviewer.org.</b></div><div class=\"sk-container\" hidden><div class=\"sk-item\"><div class=\"sk-estimator sk-toggleable\"><input class=\"sk-toggleable__control sk-hidden--visually\" id=\"sk-estimator-id-11\" type=\"checkbox\" checked><label for=\"sk-estimator-id-11\" class=\"sk-toggleable__label sk-toggleable__label-arrow\">LinearRegression</label><div class=\"sk-toggleable__content\"><pre>LinearRegression()</pre></div></div></div></div></div>"
            ]
          },
          "metadata": {},
          "execution_count": 133
        }
      ]
    },
    {
      "cell_type": "markdown",
      "id": "abb0ef7c-f491-4462-9563-a8f9fba85f47",
      "metadata": {
        "id": "abb0ef7c-f491-4462-9563-a8f9fba85f47"
      },
      "source": [
        "i) Calculate R2, MSE and MAE on the test data. What do you think of this new model?"
      ]
    },
    {
      "cell_type": "code",
      "execution_count": null,
      "id": "9698b2c0-77d6-4156-8365-a09d08ed85fc",
      "metadata": {
        "id": "9698b2c0-77d6-4156-8365-a09d08ed85fc",
        "colab": {
          "base_uri": "https://localhost:8080/"
        },
        "outputId": "aaa66a81-6e22-4c43-e9d4-2f2139de30c5"
      },
      "outputs": [
        {
          "output_type": "stream",
          "name": "stdout",
          "text": [
            "New Model R2 score : 0.5571651369396615\n",
            "New Model Mean Squared Error : 1006.7056382659536\n",
            "New Model Mean Absolute Error : 23.405287123961582\n"
          ]
        }
      ],
      "source": [
        "from sklearn.metrics import r2_score, mean_squared_error, mean_absolute_error\n",
        "\n",
        "# Predict likes on the scaled test set using the new model\n",
        "y_test_pred_new = model_new.predict(X_test_scaled)\n",
        "\n",
        "# Calculate R2 score on the test data\n",
        "r2_test_new = r2_score(y_test, y_test_pred_new)\n",
        "\n",
        "# Calculate mean squared error (MSE) on the test data\n",
        "mse_test_new = mean_squared_error(y_test, y_test_pred_new)\n",
        "\n",
        "# Calculate mean absolute error (MAE) on the test data\n",
        "mae_test_new = mean_absolute_error(y_test, y_test_pred_new)\n",
        "\n",
        "# Display the metrics on the test data\n",
        "print(\"New Model R2 score :\", r2_test_new)\n",
        "print(\"New Model Mean Squared Error :\", mse_test_new)\n",
        "print(\"New Model Mean Absolute Error :\", mae_test_new)\n"
      ]
    },
    {
      "cell_type": "markdown",
      "source": [
        "This model is better, with an average error of around 23 likes.\n",
        "R2 is much better than the previous model."
      ],
      "metadata": {
        "id": "IBddOWz_tfhu"
      },
      "id": "IBddOWz_tfhu"
    }
  ],
  "metadata": {
    "kernelspec": {
      "display_name": "Python 3",
      "language": "python",
      "name": "python3"
    },
    "language_info": {
      "codemirror_mode": {
        "name": "ipython",
        "version": 3
      },
      "file_extension": ".py",
      "mimetype": "text/x-python",
      "name": "python",
      "nbconvert_exporter": "python",
      "pygments_lexer": "ipython3",
      "version": "3.9.5"
    },
    "colab": {
      "provenance": []
    }
  },
  "nbformat": 4,
  "nbformat_minor": 5
}